{
  "nbformat": 4,
  "nbformat_minor": 0,
  "metadata": {
    "colab": {
      "name": "PROJETO_SUBWAY.ipynb",
      "provenance": [],
      "collapsed_sections": [],
      "authorship_tag": "ABX9TyMNWRB9w1lBr+xXLws0ARDL",
      "include_colab_link": true
    },
    "kernelspec": {
      "name": "python3",
      "display_name": "Python 3"
    },
    "language_info": {
      "name": "python"
    }
  },
  "cells": [
    {
      "cell_type": "markdown",
      "metadata": {
        "id": "view-in-github",
        "colab_type": "text"
      },
      "source": [
        "<a href=\"https://colab.research.google.com/github/gabriellycristine1/Projetos-e-atividades-em-PYTHON/blob/main/PROJETO_SUBWAY.ipynb\" target=\"_parent\"><img src=\"https://colab.research.google.com/assets/colab-badge.svg\" alt=\"Open In Colab\"/></a>"
      ]
    },
    {
      "cell_type": "code",
      "source": [
        "import pandas as pd\n",
        "import numpy as np\n",
        "import seaborn as sns\n",
        "import matplotlib.pyplot as plt\n",
        "import plotly.express as px\n",
        "import folium\n",
        "from folium import plugins"
      ],
      "metadata": {
        "id": "HrcmnYGZhAbB"
      },
      "execution_count": null,
      "outputs": []
    },
    {
      "cell_type": "code",
      "source": [
        "subway = pd.read_csv('/content/subway_locations_in_us.csv')\n",
        "subway "
      ],
      "metadata": {
        "id": "C-w8luqZhhar"
      },
      "execution_count": null,
      "outputs": []
    },
    {
      "cell_type": "code",
      "source": [
        "subway.columns"
      ],
      "metadata": {
        "id": "fScIGfBChsMo"
      },
      "execution_count": null,
      "outputs": []
    },
    {
      "cell_type": "code",
      "source": [
        "subway.isnull().sum()"
      ],
      "metadata": {
        "id": "ybym8C17jlsQ"
      },
      "execution_count": null,
      "outputs": []
    },
    {
      "cell_type": "code",
      "source": [
        "subway['address_2'].fillna('não informado',inplace=True)\n",
        "subway['title'].fillna('não informado',inplace=True)\n",
        "subway['latitude'].fillna(subway['latitude'].mean(), inplace=True)\n",
        "subway['longitude'].fillna(subway['longitude'].mean(), inplace=True)\n",
        "subway['open_hours'].fillna('não informado', inplace=True)"
      ],
      "metadata": {
        "id": "VO-qQ90Hj7jL"
      },
      "execution_count": null,
      "outputs": []
    },
    {
      "cell_type": "code",
      "source": [
        "subway.isnull().sum()"
      ],
      "metadata": {
        "id": "Ogx_1F9EkMqH"
      },
      "execution_count": null,
      "outputs": []
    },
    {
      "cell_type": "code",
      "source": [
        "coordernadas = []\n",
        "for lat,lng in zip(subway.latitude.values[:22645],subway.longitude.values[:22645]): # a função zip concatenou a latitude e longitude e formou tuplas entre os dois dados\n",
        "  coordernadas.append([lat,lng]) # adicionamos os dados coletados a uma lista vazia \n",
        "print(coordernadas)"
      ],
      "metadata": {
        "id": "485fR-j_kqvX"
      },
      "execution_count": null,
      "outputs": []
    },
    {
      "cell_type": "code",
      "source": [
        "mapa = folium.Map(location=[37.090240,-95.712891],tiles='open street map', zoom_start=5)\n",
        "mapa.add_child(plugins.HeatMap(coordernadas)) #'HeatMAP - função utilizada para criar o mapa de calor / # add_child - função para adiconar as coordenadas ao mapa\n",
        "#Plugins - função que permite sobrepor as coordenadas ao mapa\n",
        "mapa.save('MAPA.html') # salvamos o mapa em html para não pesar o servidor "
      ],
      "metadata": {
        "id": "i8YwEdgQmWeP"
      },
      "execution_count": null,
      "outputs": []
    },
    {
      "cell_type": "code",
      "source": [
        "CITY = subway.value_counts('city') #FUNÇÃO ULTILIZADA PARA SABER QUANTAS LOJAS HÁ EM CADA CIDADE \n",
        "CITY.to_csv('/content/CIDADES.csv',sep=';',index=True) #criação de um arquivo csv com os dados recem coletados "
      ],
      "metadata": {
        "id": "R8b_dWDwqG1H"
      },
      "execution_count": null,
      "outputs": []
    },
    {
      "cell_type": "code",
      "source": [
        "subway"
      ],
      "metadata": {
        "id": "jsSFUH1nqtPz"
      },
      "execution_count": null,
      "outputs": []
    },
    {
      "cell_type": "code",
      "source": [
        "subwaySOL = subway[:10000]"
      ],
      "metadata": {
        "id": "3ndkPanG7CKd"
      },
      "execution_count": null,
      "outputs": []
    },
    {
      "cell_type": "code",
      "source": [
        "subwaySOL"
      ],
      "metadata": {
        "id": "-0dNlERY7fZd"
      },
      "execution_count": null,
      "outputs": []
    },
    {
      "cell_type": "code",
      "source": [
        "coordernadas2 = []\n",
        "for lat,lng in zip(subwaySOL.latitude.values[:10000],subway.longitude.values[:10000]): # a função zip concatenou a latitude e longitude e formou tuplas entre os dois dados\n",
        "  coordernadas2.append([lat,lng]) # adicionamos os dados coletados a uma lista vazia \n",
        "print(coordernadas2)"
      ],
      "metadata": {
        "id": "tlpWnLvK7g9N"
      },
      "execution_count": null,
      "outputs": []
    },
    {
      "cell_type": "code",
      "source": [
        "mapa2 = folium.Map(location=[37.090240,-95.712891],tiles='open street map', zoom_start=5)\n",
        "mapa2.add_child(plugins.HeatMap(coordernadas2)) #'HeatMAP - função utilizada para criar o mapa de calor / # add_child - função para adiconar as coordenadas ao mapa\n",
        "#Plugins - função que permite sobrepor as coordenadas ao mapa\n",
        "mapa2.save('MAPASOLUÇÃO9.html') # salvamos o mapa em html para não pesar o servidor"
      ],
      "metadata": {
        "id": "d_Os7OCe7mDV"
      },
      "execution_count": null,
      "outputs": []
    },
    {
      "cell_type": "code",
      "source": [
        ""
      ],
      "metadata": {
        "id": "ZarBuuZ3hoTo"
      },
      "execution_count": null,
      "outputs": []
    }
  ]
}