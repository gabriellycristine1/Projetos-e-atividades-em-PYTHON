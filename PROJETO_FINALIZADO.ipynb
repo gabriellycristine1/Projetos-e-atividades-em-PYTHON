{
  "cells": [
    {
      "cell_type": "markdown",
      "metadata": {
        "id": "view-in-github",
        "colab_type": "text"
      },
      "source": [
        "<a href=\"https://colab.research.google.com/github/gabriellycristine1/Projetos_e_Atividades_Python/blob/main/PROJETO_FINALIZADO.ipynb\" target=\"_parent\"><img src=\"https://colab.research.google.com/assets/colab-badge.svg\" alt=\"Open In Colab\"/></a>"
      ]
    },
    {
      "cell_type": "markdown",
      "metadata": {
        "id": "aJ9JvcOLhOt8"
      },
      "source": [
        "Importando Bibliotecas"
      ]
    },
    {
      "cell_type": "code",
      "execution_count": 15,
      "metadata": {
        "colab": {
          "base_uri": "https://localhost:8080/"
        },
        "id": "ldtF-_cVmU4y",
        "outputId": "96bf2f6d-5670-48b1-94f1-205e491eb938"
      },
      "outputs": [
        {
          "output_type": "stream",
          "name": "stdout",
          "text": [
            "Looking in indexes: https://pypi.org/simple, https://us-python.pkg.dev/colab-wheels/public/simple/\n",
            "Requirement already satisfied: efficientnet in /usr/local/lib/python3.7/dist-packages (1.1.1)\n",
            "Requirement already satisfied: scikit-image in /usr/local/lib/python3.7/dist-packages (from efficientnet) (0.18.3)\n",
            "Requirement already satisfied: keras-applications<=1.0.8,>=1.0.7 in /usr/local/lib/python3.7/dist-packages (from efficientnet) (1.0.8)\n",
            "Requirement already satisfied: numpy>=1.9.1 in /usr/local/lib/python3.7/dist-packages (from keras-applications<=1.0.8,>=1.0.7->efficientnet) (1.21.6)\n",
            "Requirement already satisfied: h5py in /usr/local/lib/python3.7/dist-packages (from keras-applications<=1.0.8,>=1.0.7->efficientnet) (3.1.0)\n",
            "Requirement already satisfied: cached-property in /usr/local/lib/python3.7/dist-packages (from h5py->keras-applications<=1.0.8,>=1.0.7->efficientnet) (1.5.2)\n",
            "Requirement already satisfied: scipy>=1.0.1 in /usr/local/lib/python3.7/dist-packages (from scikit-image->efficientnet) (1.7.3)\n",
            "Requirement already satisfied: matplotlib!=3.0.0,>=2.0.0 in /usr/local/lib/python3.7/dist-packages (from scikit-image->efficientnet) (3.2.2)\n",
            "Requirement already satisfied: imageio>=2.3.0 in /usr/local/lib/python3.7/dist-packages (from scikit-image->efficientnet) (2.9.0)\n",
            "Requirement already satisfied: pillow!=7.1.0,!=7.1.1,>=4.3.0 in /usr/local/lib/python3.7/dist-packages (from scikit-image->efficientnet) (7.1.2)\n",
            "Requirement already satisfied: tifffile>=2019.7.26 in /usr/local/lib/python3.7/dist-packages (from scikit-image->efficientnet) (2021.11.2)\n",
            "Requirement already satisfied: PyWavelets>=1.1.1 in /usr/local/lib/python3.7/dist-packages (from scikit-image->efficientnet) (1.3.0)\n",
            "Requirement already satisfied: networkx>=2.0 in /usr/local/lib/python3.7/dist-packages (from scikit-image->efficientnet) (2.6.3)\n",
            "Requirement already satisfied: cycler>=0.10 in /usr/local/lib/python3.7/dist-packages (from matplotlib!=3.0.0,>=2.0.0->scikit-image->efficientnet) (0.11.0)\n",
            "Requirement already satisfied: python-dateutil>=2.1 in /usr/local/lib/python3.7/dist-packages (from matplotlib!=3.0.0,>=2.0.0->scikit-image->efficientnet) (2.8.2)\n",
            "Requirement already satisfied: kiwisolver>=1.0.1 in /usr/local/lib/python3.7/dist-packages (from matplotlib!=3.0.0,>=2.0.0->scikit-image->efficientnet) (1.4.4)\n",
            "Requirement already satisfied: pyparsing!=2.0.4,!=2.1.2,!=2.1.6,>=2.0.1 in /usr/local/lib/python3.7/dist-packages (from matplotlib!=3.0.0,>=2.0.0->scikit-image->efficientnet) (3.0.9)\n",
            "Requirement already satisfied: typing-extensions in /usr/local/lib/python3.7/dist-packages (from kiwisolver>=1.0.1->matplotlib!=3.0.0,>=2.0.0->scikit-image->efficientnet) (4.1.1)\n",
            "Requirement already satisfied: six>=1.5 in /usr/local/lib/python3.7/dist-packages (from python-dateutil>=2.1->matplotlib!=3.0.0,>=2.0.0->scikit-image->efficientnet) (1.15.0)\n",
            "Looking in indexes: https://pypi.org/simple, https://us-python.pkg.dev/colab-wheels/public/simple/\n",
            "Requirement already satisfied: tensorflow-addons==0.8.3 in /root/.local/lib/python3.7/site-packages (0.8.3)\n",
            "Requirement already satisfied: typeguard in /usr/local/lib/python3.7/dist-packages (from tensorflow-addons==0.8.3) (2.7.1)\n",
            "Looking in indexes: https://pypi.org/simple, https://us-python.pkg.dev/colab-wheels/public/simple/\n",
            "\u001b[31mERROR: Could not find a version that satisfies the requirement tensorflow==2.2.0-rc3a (from versions: 1.13.1, 1.13.2, 1.14.0, 1.15.0, 1.15.2, 1.15.3, 1.15.4, 1.15.5, 2.0.0, 2.0.1, 2.0.2, 2.0.3, 2.0.4, 2.1.0, 2.1.1, 2.1.2, 2.1.3, 2.1.4, 2.2.0, 2.2.1, 2.2.2, 2.2.3, 2.3.0, 2.3.1, 2.3.2, 2.3.3, 2.3.4, 2.4.0, 2.4.1, 2.4.2, 2.4.3, 2.4.4, 2.5.0, 2.5.1, 2.5.2, 2.5.3, 2.6.0rc0, 2.6.0rc1, 2.6.0rc2, 2.6.0, 2.6.0+zzzcolab20220506153740, 2.6.1, 2.6.2, 2.6.3, 2.6.4, 2.6.4+zzzcolab20220516125453, 2.6.5, 2.6.5+zzzcolab20220523104206, 2.7.0rc0, 2.7.0rc1, 2.7.0, 2.7.0+zzzcolab20220506150900, 2.7.1, 2.7.2, 2.7.2+zzzcolab20220516114640, 2.7.3, 2.7.3+zzzcolab20220523111007, 2.8.0rc0, 2.8.0rc1, 2.8.0, 2.8.0+zzzcolab20220506162203, 2.8.1, 2.8.1+zzzcolab20220516111314, 2.8.1+zzzcolab20220518083849, 2.8.2, 2.8.2+zzzcolab20220523105045, 2.8.2+zzzcolab20220527125636, 2.8.2+zzzcolab20220629235552, 2.8.2+zzzcolab20220714152931, 2.8.2+zzzcolab20220714162028, 2.8.2+zzzcolab20220719082949, 2.9.0rc0, 2.9.0rc1, 2.9.0rc2, 2.9.0, 2.9.1)\u001b[0m\n",
            "\u001b[31mERROR: No matching distribution found for tensorflow==2.2.0-rc3a\u001b[0m\n"
          ]
        }
      ],
      "source": [
        "!pip install -U efficientnet\n",
        "import sys\n",
        "import os\n",
        "from os.path import join\n",
        "import numpy as np \n",
        "import matplotlib.pyplot as plt\n",
        "import efficientnet.keras as efn \n",
        "import tensorflow as tf\n",
        "!pip install --user tensorflow-addons==0.8.3\n",
        "!pip install --user tensorflow==2.2.0-rc3a\n",
        "from keras.preprocessing.image import load_img, img_to_array\n",
        "from keras import models, regularizers, layers, optimizers, losses, metrics\n",
        "from keras.models import Sequential\n",
        "from keras.layers import Dense , Dropout , Flatten , MaxPooling2D , BatchNormalization\n",
        "from keras.utils import np_utils\n",
        "from keras.preprocessing.image import ImageDataGenerator\n",
        "from keras.preprocessing import image\n",
        "import zipfile\n",
        "from google.colab.patches import cv2_imshow\n",
        "from google.colab import drive"
      ]
    },
    {
      "cell_type": "markdown",
      "metadata": {
        "id": "lniSzLoDhTbC"
      },
      "source": [
        "conectando o drive ao google colab para importação do arquivo"
      ]
    },
    {
      "cell_type": "code",
      "execution_count": 92,
      "metadata": {
        "colab": {
          "base_uri": "https://localhost:8080/"
        },
        "id": "OKBjYLqcmO3u",
        "outputId": "98043966-d726-4631-9895-66dcfdecb3dd"
      },
      "outputs": [
        {
          "output_type": "stream",
          "name": "stdout",
          "text": [
            "Drive already mounted at /content/drive; to attempt to forcibly remount, call drive.mount(\"/content/drive\", force_remount=True).\n"
          ]
        }
      ],
      "source": [
        "from google.colab import drive\n",
        "drive.mount('/content/drive')"
      ]
    },
    {
      "cell_type": "markdown",
      "metadata": {
        "id": "-4YaZVbYhdta"
      },
      "source": [
        "abrindo o arquivo zipado"
      ]
    },
    {
      "cell_type": "code",
      "execution_count": 55,
      "metadata": {
        "id": "pw78_sLYmZyq"
      },
      "outputs": [],
      "source": [
        "path = '/content/drive/MyDrive/MELANOMA_FINAL.zip'\n",
        "zip_object = zipfile.ZipFile(file = path, mode='r')\n",
        "zip_object.extractall('./')\n",
        "zip_object.close()"
      ]
    },
    {
      "cell_type": "markdown",
      "metadata": {
        "id": "EJnnpPGPhnOc"
      },
      "source": [
        "copiando o caminho do diretorio"
      ]
    },
    {
      "cell_type": "code",
      "execution_count": 56,
      "metadata": {
        "id": "4CPjbD8a6mmy"
      },
      "outputs": [],
      "source": [
        "PATH = \"/content/DermMel\""
      ]
    },
    {
      "cell_type": "markdown",
      "metadata": {
        "id": "EFx9y3nKhqsA"
      },
      "source": [
        "verificando o nome das pastas"
      ]
    },
    {
      "cell_type": "code",
      "execution_count": 57,
      "metadata": {
        "id": "PTvZx4cUmcP-",
        "colab": {
          "base_uri": "https://localhost:8080/",
          "height": 52
        },
        "outputId": "c63dcb2a-2230-4a54-9d24-946812994550"
      },
      "outputs": [
        {
          "output_type": "stream",
          "name": "stdout",
          "text": [
            "Total Directories\n"
          ]
        },
        {
          "output_type": "display_data",
          "data": {
            "text/plain": [
              "['valid', 'test', 'train_sep']"
            ]
          },
          "metadata": {}
        }
      ],
      "source": [
        "print('Total Directories')\n",
        "display(os.listdir(PATH))"
      ]
    },
    {
      "cell_type": "markdown",
      "metadata": {
        "id": "RFoqCcOBhtmz"
      },
      "source": [
        "verificação de quantas imagens temos para treino, teste e validação "
      ]
    },
    {
      "cell_type": "code",
      "execution_count": 195,
      "metadata": {
        "id": "25U_njv_9PGX",
        "colab": {
          "base_uri": "https://localhost:8080/"
        },
        "outputId": "85c3f2e3-d711-40e2-c233-5037fb8f82bf"
      },
      "outputs": [
        {
          "output_type": "stream",
          "name": "stdout",
          "text": [
            "2 PASTAS DE TREINO\n",
            "Melanoma 5341\n",
            "NotMelanoma 5341\n",
            "TOTAL DE FOTOS PARA TREINO 10682\n",
            "__________________________________________________\n",
            "2 PASTAS DE VALIDAÇÃO\n",
            "Melanoma 1781\n",
            "NotMelanoma 1781\n",
            "TOTAL DE FOTOS PARA VALIDAÇÃO 3562\n",
            "__________________________________________________\n",
            "2 PASTAS DE TESTE\n",
            "Melanoma 1781\n",
            "NotMelanoma 1781\n",
            "TOTAL DE FOTOS PARA TESTE 3560\n",
            "__________________________________________________\n"
          ]
        }
      ],
      "source": [
        "PATHtrain = \"/content/DermMel/train_sep\"\n",
        "print(len(os.listdir(PATHtrain)), \"PASTAS DE TREINO\")\n",
        "drs = os.listdir(PATHtrain)\n",
        "im_len = 0\n",
        "for label in sorted(drs):\n",
        "    print(label,len(os.listdir('/content/DermMel/train_sep/Melanoma')))\n",
        "    im_len = im_len + len(os.listdir('/content/DermMel/train_sep/NotMelanoma'))\n",
        "\n",
        "print(\"TOTAL DE FOTOS PARA TREINO\", im_len)\n",
        "print(\"_\"*50)\n",
        "\n",
        "PATHvalid = '/content/DermMel/valid'\n",
        "print(len(os.listdir(PATHvalid)), \"PASTAS DE VALIDAÇÃO\")\n",
        "drs = os.listdir(PATHvalid)\n",
        "im_len = 0\n",
        "for label in sorted(drs):\n",
        "    print(label,len(os.listdir('/content/DermMel/valid/Melanoma')))\n",
        "    im_len = im_len + len(os.listdir('/content/DermMel/valid/NotMelanoma'))\n",
        "\n",
        "print(\"TOTAL DE FOTOS PARA VALIDAÇÃO\", im_len)\n",
        "print(\"_\"*50)\n",
        "\n",
        "PATHtest ='/content/DermMel/test'\n",
        "print(len(os.listdir(PATHtest)), \"PASTAS DE TESTE\")\n",
        "drs = os.listdir(PATHtest)\n",
        "im_len = 0\n",
        "\n",
        "for label in sorted(drs):\n",
        "    print(label,len(os.listdir('/content/DermMel/test/Melanoma')))\n",
        "    im_len = im_len + len(os.listdir('/content/DermMel/test/NotMelanoma'))\n",
        "\n",
        "print(\"TOTAL DE FOTOS PARA TESTE\", im_len)\n",
        "print(\"_\"*50)"
      ]
    },
    {
      "cell_type": "code",
      "execution_count": 27,
      "metadata": {
        "id": "qdVzjmN76Fiy"
      },
      "outputs": [],
      "source": [
        "from PIL import Image\n",
        "import cv2\n",
        "from google.colab.patches import cv2_imshow"
      ]
    },
    {
      "cell_type": "markdown",
      "metadata": {
        "id": "CbkWCekzh3JT"
      },
      "source": [
        "função criada para converter as imagens em escala de cinza"
      ]
    },
    {
      "cell_type": "code",
      "execution_count": null,
      "metadata": {
        "id": "_b3IDpBv6AUE"
      },
      "outputs": [],
      "source": [
        "def dados_imagem():\n",
        "  caminhos = [os.path.join('/content/DermMel/train_sep/Melanoma', f) for f in os.listdir('/content/DermMel/train_sep/Melanoma')]\n",
        "  mela = []\n",
        "  for caminho in caminhos:\n",
        "    imagem = cv2.imread(caminho)\n",
        "    imagem = Image.open(caminho).convert('L')\n",
        "    imagem_np = np.array(imagem, 'uint8')\n",
        "    val, thresh = cv2.threshold(imagem_np, 155, 255, cv2.THRESH_OTSU+cv2.THRESH_BINARY_INV)\n",
        "    plt.imshow(thresh, cmap='gray')\n",
        "    \n",
        "    mela.append(thresh)\n",
        "  return mela"
      ]
    },
    {
      "cell_type": "code",
      "execution_count": null,
      "metadata": {
        "colab": {
          "base_uri": "https://localhost:8080/",
          "height": 269
        },
        "id": "_MYtWGRS6JTB",
        "outputId": "7fce9608-8b80-4190-98a5-0865a6129269"
      },
      "outputs": [
        {
          "output_type": "display_data",
          "data": {
            "text/plain": [
              "<Figure size 432x288 with 1 Axes>"
            ],
            "image/png": "[encoded data removed]"
          },
          "metadata": {
            "needs_background": "light"
          }
        }
      ],
      "source": [
        "mela = dados_imagem()"
      ]
    },
    {
      "cell_type": "code",
      "execution_count": null,
      "metadata": {
        "colab": {
          "base_uri": "https://localhost:8080/",
          "height": 241
        },
        "id": "lB677sJy-4xq",
        "outputId": "1b692fcc-672c-436b-a389-934e54ee684f"
      },
      "outputs": [
        {
          "output_type": "display_data",
          "data": {
            "text/plain": [
              "<PIL.Image.Image image mode=L size=224x224 at 0x7F6E83D1FE50>"
            ],
            "image/png": "[encoded data removed]"
          },
          "metadata": {}
        }
      ],
      "source": [
        "cv2_imshow(mela[2])"
      ]
    },
    {
      "cell_type": "code",
      "execution_count": 26,
      "metadata": {
        "id": "BYPWtuw_6Rnq"
      },
      "outputs": [],
      "source": [
        "from efficientnet.tfkeras import EfficientNetB7\n",
        "from keras.callbacks import EarlyStopping,ModelCheckpoint\n",
        "from keras.layers import MaxPool2D\n",
        "from keras.regularizers import l2\n",
        "from google.colab.patches import cv2\n",
        "from keras.layers.convolutional import Conv2D\n",
        "from keras.layers.convolutional import MaxPooling2D"
      ]
    },
    {
      "cell_type": "markdown",
      "metadata": {
        "id": "no4AVZwniPSi"
      },
      "source": [
        "O EfficientNetB0 é usado porque é um modelo confiável para uma precisão relativamente boa e porque é rápido de treinar devido ao baixo número de parâmetros."
      ]
    },
    {
      "cell_type": "code",
      "execution_count": null,
      "metadata": {
        "id": "57RPDvY66Xzh",
        "colab": {
          "base_uri": "https://localhost:8080/"
        },
        "outputId": "a75f2d73-9d72-4cfe-faf5-7eb631a9697e"
      },
      "outputs": [
        {
          "output_type": "stream",
          "name": "stdout",
          "text": [
            "Downloading data from https://github.com/Callidior/keras-applications/releases/download/efficientnet/efficientnet-b7_weights_tf_dim_ordering_tf_kernels_autoaugment_notop.h5\n",
            "242196480/258434480 [===========================>..] - ETA: 1s"
          ]
        }
      ],
      "source": [
        "eff = EfficientNetB7(input_shape=(100,100,3) , include_top=False , weights='imagenet')\n",
        "\n",
        "model = Sequential()\n",
        "model.add(eff)\n",
        "model.add(Flatten())\n",
        "model.add(Dropout(0.3))\n",
        "model.add(Dense(128 , activation='relu' , kernel_regularizer=regularizers.l2(0.01) ))\n",
        "model.add(BatchNormalization())\n",
        "model.add(Dropout(0.3))\n",
        "model.add(Dense(2, activation='sigmoid')) "
      ]
    },
    {
      "cell_type": "code",
      "execution_count": null,
      "metadata": {
        "id": "coMVI-8bjSIm",
        "colab": {
          "base_uri": "https://localhost:8080/"
        },
        "outputId": "98635bdd-8685-4982-fea0-68d07ae0b963"
      },
      "outputs": [
        {
          "output_type": "stream",
          "name": "stdout",
          "text": [
            "Model: \"sequential_1\"\n",
            "_________________________________________________________________\n",
            " Layer (type)                Output Shape              Param #   \n",
            "=================================================================\n",
            " efficientnet-b7 (Functional  (None, 4, 4, 2560)       64097680  \n",
            " )                                                               \n",
            "                                                                 \n",
            " flatten_1 (Flatten)         (None, 40960)             0         \n",
            "                                                                 \n",
            " dropout_2 (Dropout)         (None, 40960)             0         \n",
            "                                                                 \n",
            " dense_2 (Dense)             (None, 128)               5243008   \n",
            "                                                                 \n",
            " batch_normalization_1 (Batc  (None, 128)              512       \n",
            " hNormalization)                                                 \n",
            "                                                                 \n",
            " dropout_3 (Dropout)         (None, 128)               0         \n",
            "                                                                 \n",
            " dense_3 (Dense)             (None, 2)                 258       \n",
            "                                                                 \n",
            "=================================================================\n",
            "Total params: 69,341,458\n",
            "Trainable params: 69,030,482\n",
            "Non-trainable params: 310,976\n",
            "_________________________________________________________________\n"
          ]
        }
      ],
      "source": [
        "model.summary()"
      ]
    },
    {
      "cell_type": "markdown",
      "metadata": {
        "id": "VJulqgPcitNU"
      },
      "source": [
        "usando o \"imageDataGenerator\" para gerar novas imagens para treino e definindo as classes em 0 e 1"
      ]
    },
    {
      "cell_type": "code",
      "execution_count": 196,
      "metadata": {
        "colab": {
          "base_uri": "https://localhost:8080/"
        },
        "id": "PVQw9tg-6bLi",
        "outputId": "25d86498-bd55-4fc6-fe98-1121b5419482"
      },
      "outputs": [
        {
          "output_type": "stream",
          "name": "stdout",
          "text": [
            "Found 10682 images belonging to 2 classes.\n",
            "Found 3562 images belonging to 2 classes.\n",
            "Found 3561 images belonging to 2 classes.\n"
          ]
        }
      ],
      "source": [
        "train_dir = PATHtrain\n",
        "validation_dir = PATHvalid\n",
        "test_dir = PATHtest\n",
        "batch_size = 50\n",
        "target_size=(100, 100)\n",
        "\n",
        "#train_datagen = ImageDataGenerator(rescale=1./255)\n",
        "train_datagen = ImageDataGenerator(rescale=1./255,\n",
        "                                   rotation_range=40,\n",
        "                                   width_shift_range=0.2,\n",
        "                                   height_shift_range=0.2,\n",
        "                                   shear_range=0.2,\n",
        "                                   zoom_range=0.2,\n",
        "                                   fill_mode='nearest')\n",
        "\n",
        "test_datagen = ImageDataGenerator(rescale=1./255)\n",
        "\n",
        "train_generator = train_datagen.flow_from_directory(\n",
        "    train_dir,target_size=target_size,batch_size=batch_size)\n",
        "validation_generator = test_datagen.flow_from_directory(\n",
        "    validation_dir,target_size=target_size,batch_size=batch_size)\n",
        "test_generator = test_datagen.flow_from_directory(\n",
        "    test_dir,target_size=target_size,batch_size=batch_size)"
      ]
    },
    {
      "cell_type": "markdown",
      "metadata": {
        "id": "wis4jam27nPb"
      },
      "source": [
        "verificando as classes"
      ]
    },
    {
      "cell_type": "code",
      "execution_count": 197,
      "metadata": {
        "colab": {
          "base_uri": "https://localhost:8080/"
        },
        "id": "JI2bRR7r6lcs",
        "outputId": "7f3cba9e-cff6-4bda-de31-c81581e8f646"
      },
      "outputs": [
        {
          "output_type": "stream",
          "name": "stdout",
          "text": [
            "{'Melanoma': 0, 'NotMelanoma': 1}\n"
          ]
        }
      ],
      "source": [
        "print(train_generator.class_indices)"
      ]
    },
    {
      "cell_type": "markdown",
      "metadata": {
        "id": "Ew4QB-Do7s0A"
      },
      "source": [
        "definindo os parametros que vao ser usados dentro de callback"
      ]
    },
    {
      "cell_type": "code",
      "execution_count": 198,
      "metadata": {
        "id": "QBNmPf7M6nvt"
      },
      "outputs": [],
      "source": [
        "earlystopping = EarlyStopping(monitor =\"val_loss\", \n",
        "                                        patience = 8, \n",
        "                                        restore_best_weights = True)\n",
        "\n",
        "model.compile(optimizer='adam',\n",
        "              loss='binary_crossentropy',\n",
        "              metrics=['accuracy'] )  "
      ]
    },
    {
      "cell_type": "code",
      "execution_count": 199,
      "metadata": {
        "id": "Ns415J8x7tw3"
      },
      "outputs": [],
      "source": [
        "checkpoint = ModelCheckpoint('chest_orientation_model.hdf5', \n",
        "                             monitor='val_loss', \n",
        "                             verbose=1, mode='min', \n",
        "                             save_best_only=True)\n"
      ]
    },
    {
      "cell_type": "code",
      "execution_count": 200,
      "metadata": {
        "id": "FgqgQMrMO7WX"
      },
      "outputs": [],
      "source": [
        "from keras.callbacks import ModelCheckpoint, LearningRateScheduler, EarlyStopping, ReduceLROnPlateau"
      ]
    },
    {
      "cell_type": "code",
      "execution_count": 201,
      "metadata": {
        "colab": {
          "base_uri": "https://localhost:8080/"
        },
        "id": "QPrXn4OIO0qU",
        "outputId": "f293c66f-267a-4c88-9841-e1286a003ca0"
      },
      "outputs": [
        {
          "output_type": "stream",
          "name": "stdout",
          "text": [
            "WARNING:tensorflow:`epsilon` argument is deprecated and will be removed, use `min_delta` instead.\n"
          ]
        },
        {
          "output_type": "stream",
          "name": "stderr",
          "text": [
            "WARNING:tensorflow:`epsilon` argument is deprecated and will be removed, use `min_delta` instead.\n"
          ]
        }
      ],
      "source": [
        "reduceLROnPlat = ReduceLROnPlateau(monitor='val_loss', factor=0.8, patience=10, verbose=1, mode='auto', epsilon=0.0001)"
      ]
    },
    {
      "cell_type": "markdown",
      "metadata": {
        "id": "0LmAhIm-TDwW"
      },
      "source": [
        "treianando e validando nosso modelo"
      ]
    },
    {
      "cell_type": "code",
      "execution_count": null,
      "metadata": {
        "colab": {
          "base_uri": "https://localhost:8080/"
        },
        "id": "FBCChtzt6q_n",
        "outputId": "084260be-7e4b-4a13-e23d-1ebc8b04d282"
      },
      "outputs": [
        {
          "output_type": "stream",
          "name": "stderr",
          "text": [
            "/usr/local/lib/python3.7/dist-packages/ipykernel_launcher.py:6: UserWarning: `Model.fit_generator` is deprecated and will be removed in a future version. Please use `Model.fit`, which supports generators.\n",
            "  \n"
          ]
        },
        {
          "output_type": "stream",
          "name": "stdout",
          "text": [
            "Epoch 1/40\n",
            "213/213 [==============================] - ETA: 0s - loss: 1.0420 - accuracy: 0.8768\n",
            "Epoch 1: val_loss improved from inf to 1.06721, saving model to chest_orientation_model.hdf5\n",
            "213/213 [==============================] - 229s 831ms/step - loss: 1.0420 - accuracy: 0.8768 - val_loss: 1.0672 - val_accuracy: 0.5425 - lr: 0.0010\n",
            "Epoch 2/40\n",
            "213/213 [==============================] - ETA: 0s - loss: 0.3478 - accuracy: 0.9206\n",
            "Epoch 2: val_loss improved from 1.06721 to 0.85278, saving model to chest_orientation_model.hdf5\n",
            "213/213 [==============================] - 152s 712ms/step - loss: 0.3478 - accuracy: 0.9206 - val_loss: 0.8528 - val_accuracy: 0.7028 - lr: 0.0010\n",
            "Epoch 3/40\n",
            "213/213 [==============================] - ETA: 0s - loss: 0.3037 - accuracy: 0.9316\n",
            "Epoch 3: val_loss improved from 0.85278 to 0.34378, saving model to chest_orientation_model.hdf5\n",
            "213/213 [==============================] - 149s 699ms/step - loss: 0.3037 - accuracy: 0.9316 - val_loss: 0.3438 - val_accuracy: 0.9273 - lr: 0.0010\n",
            "Epoch 4/40\n",
            "213/213 [==============================] - ETA: 0s - loss: 0.3056 - accuracy: 0.9396\n",
            "Epoch 4: val_loss did not improve from 0.34378\n",
            "213/213 [==============================] - 144s 674ms/step - loss: 0.3056 - accuracy: 0.9396 - val_loss: 0.4061 - val_accuracy: 0.9470 - lr: 0.0010\n",
            "Epoch 5/40\n",
            "213/213 [==============================] - ETA: 0s - loss: 0.3477 - accuracy: 0.9405\n",
            "Epoch 5: val_loss did not improve from 0.34378\n",
            "213/213 [==============================] - 144s 673ms/step - loss: 0.3477 - accuracy: 0.9405 - val_loss: 0.4726 - val_accuracy: 0.9363 - lr: 0.0010\n",
            "Epoch 6/40\n",
            "213/213 [==============================] - ETA: 0s - loss: 0.2990 - accuracy: 0.9478\n",
            "Epoch 6: val_loss improved from 0.34378 to 0.32466, saving model to chest_orientation_model.hdf5\n",
            "213/213 [==============================] - 149s 700ms/step - loss: 0.2990 - accuracy: 0.9478 - val_loss: 0.3247 - val_accuracy: 0.9369 - lr: 0.0010\n",
            "Epoch 7/40\n",
            "213/213 [==============================] - ETA: 0s - loss: 0.2662 - accuracy: 0.9504\n",
            "Epoch 7: val_loss did not improve from 0.32466\n",
            "213/213 [==============================] - 145s 678ms/step - loss: 0.2662 - accuracy: 0.9504 - val_loss: 0.3854 - val_accuracy: 0.9439 - lr: 0.0010\n",
            "Epoch 8/40\n",
            "213/213 [==============================] - ETA: 0s - loss: 0.2853 - accuracy: 0.9484\n",
            "Epoch 8: val_loss did not improve from 0.32466\n",
            "213/213 [==============================] - 147s 689ms/step - loss: 0.2853 - accuracy: 0.9484 - val_loss: 0.4405 - val_accuracy: 0.8873 - lr: 0.0010\n",
            "Epoch 9/40\n",
            "213/213 [==============================] - ETA: 0s - loss: 0.2948 - accuracy: 0.9520\n",
            "Epoch 9: val_loss did not improve from 0.32466\n",
            "213/213 [==============================] - 147s 690ms/step - loss: 0.2948 - accuracy: 0.9520 - val_loss: 0.4635 - val_accuracy: 0.9172 - lr: 0.0010\n",
            "Epoch 10/40\n",
            "213/213 [==============================] - ETA: 0s - loss: 0.2817 - accuracy: 0.9454\n",
            "Epoch 10: val_loss improved from 0.32466 to 0.24793, saving model to chest_orientation_model.hdf5\n",
            "213/213 [==============================] - 151s 709ms/step - loss: 0.2817 - accuracy: 0.9454 - val_loss: 0.2479 - val_accuracy: 0.9442 - lr: 0.0010\n",
            "Epoch 11/40\n",
            "213/213 [==============================] - ETA: 0s - loss: 0.2471 - accuracy: 0.9479\n",
            "Epoch 11: val_loss did not improve from 0.24793\n",
            "213/213 [==============================] - 144s 676ms/step - loss: 0.2471 - accuracy: 0.9479 - val_loss: 0.3571 - val_accuracy: 0.9501 - lr: 0.0010\n",
            "Epoch 12/40\n",
            "213/213 [==============================] - ETA: 0s - loss: 0.2541 - accuracy: 0.9523\n",
            "Epoch 12: val_loss did not improve from 0.24793\n",
            "213/213 [==============================] - 144s 677ms/step - loss: 0.2541 - accuracy: 0.9523 - val_loss: 0.4416 - val_accuracy: 0.9085 - lr: 0.0010\n",
            "Epoch 13/40\n",
            "213/213 [==============================] - ETA: 0s - loss: 0.2417 - accuracy: 0.9600\n",
            "Epoch 13: val_loss did not improve from 0.24793\n",
            "213/213 [==============================] - 164s 768ms/step - loss: 0.2417 - accuracy: 0.9600 - val_loss: 0.3160 - val_accuracy: 0.9172 - lr: 0.0010\n",
            "Epoch 14/40\n",
            "213/213 [==============================] - ETA: 0s - loss: 0.2048 - accuracy: 0.9596\n",
            "Epoch 14: val_loss did not improve from 0.24793\n",
            "213/213 [==============================] - 145s 677ms/step - loss: 0.2048 - accuracy: 0.9596 - val_loss: 0.2674 - val_accuracy: 0.9485 - lr: 0.0010\n",
            "Epoch 15/40\n",
            "213/213 [==============================] - ETA: 0s - loss: 0.1953 - accuracy: 0.9601\n",
            "Epoch 15: val_loss improved from 0.24793 to 0.24633, saving model to chest_orientation_model.hdf5\n",
            "213/213 [==============================] - 151s 709ms/step - loss: 0.1953 - accuracy: 0.9601 - val_loss: 0.2463 - val_accuracy: 0.9532 - lr: 0.0010\n",
            "Epoch 16/40\n",
            "213/213 [==============================] - ETA: 0s - loss: 0.1783 - accuracy: 0.9638\n",
            "Epoch 16: val_loss did not improve from 0.24633\n",
            "213/213 [==============================] - 145s 679ms/step - loss: 0.1783 - accuracy: 0.9638 - val_loss: 0.2670 - val_accuracy: 0.9454 - lr: 0.0010\n",
            "Epoch 17/40\n",
            "213/213 [==============================] - ETA: 0s - loss: 0.1875 - accuracy: 0.9637\n",
            "Epoch 17: val_loss did not improve from 0.24633\n",
            "213/213 [==============================] - 144s 677ms/step - loss: 0.1875 - accuracy: 0.9637 - val_loss: 0.3053 - val_accuracy: 0.9507 - lr: 0.0010\n",
            "Epoch 18/40\n",
            "213/213 [==============================] - ETA: 0s - loss: 0.1896 - accuracy: 0.9619\n",
            "Epoch 18: val_loss did not improve from 0.24633\n",
            "213/213 [==============================] - 145s 680ms/step - loss: 0.1896 - accuracy: 0.9619 - val_loss: 0.3136 - val_accuracy: 0.9068 - lr: 0.0010\n",
            "Epoch 19/40\n",
            "213/213 [==============================] - ETA: 0s - loss: 0.1647 - accuracy: 0.9662\n",
            "Epoch 19: val_loss did not improve from 0.24633\n",
            "213/213 [==============================] - 146s 684ms/step - loss: 0.1647 - accuracy: 0.9662 - val_loss: 0.2665 - val_accuracy: 0.9254 - lr: 0.0010\n",
            "Epoch 20/40\n",
            "213/213 [==============================] - ETA: 0s - loss: 0.1596 - accuracy: 0.9682\n",
            "Epoch 20: val_loss improved from 0.24633 to 0.19440, saving model to chest_orientation_model.hdf5\n",
            "213/213 [==============================] - 150s 705ms/step - loss: 0.1596 - accuracy: 0.9682 - val_loss: 0.1944 - val_accuracy: 0.9476 - lr: 0.0010\n",
            "Epoch 21/40\n",
            "213/213 [==============================] - ETA: 0s - loss: 0.1507 - accuracy: 0.9707\n",
            "Epoch 21: val_loss did not improve from 0.19440\n",
            "213/213 [==============================] - 147s 687ms/step - loss: 0.1507 - accuracy: 0.9707 - val_loss: 0.3025 - val_accuracy: 0.8986 - lr: 0.0010\n",
            "Epoch 22/40\n",
            "213/213 [==============================] - ETA: 0s - loss: 0.1390 - accuracy: 0.9710\n",
            "Epoch 22: val_loss did not improve from 0.19440\n",
            "213/213 [==============================] - 147s 690ms/step - loss: 0.1390 - accuracy: 0.9710 - val_loss: 0.2030 - val_accuracy: 0.9487 - lr: 0.0010\n",
            "Epoch 23/40\n",
            "213/213 [==============================] - ETA: 0s - loss: 0.1456 - accuracy: 0.9707\n",
            "Epoch 23: val_loss did not improve from 0.19440\n",
            "213/213 [==============================] - 148s 691ms/step - loss: 0.1456 - accuracy: 0.9707 - val_loss: 0.2981 - val_accuracy: 0.9439 - lr: 0.0010\n",
            "Epoch 24/40\n",
            "213/213 [==============================] - ETA: 0s - loss: 0.1455 - accuracy: 0.9704\n",
            "Epoch 24: val_loss did not improve from 0.19440\n",
            "213/213 [==============================] - 147s 688ms/step - loss: 0.1455 - accuracy: 0.9704 - val_loss: 0.2205 - val_accuracy: 0.9344 - lr: 0.0010\n",
            "Epoch 25/40\n",
            "213/213 [==============================] - ETA: 0s - loss: 0.1629 - accuracy: 0.9730\n",
            "Epoch 25: val_loss did not improve from 0.19440\n",
            "213/213 [==============================] - 148s 695ms/step - loss: 0.1629 - accuracy: 0.9730 - val_loss: 0.2927 - val_accuracy: 0.9265 - lr: 0.0010\n",
            "Epoch 26/40\n",
            "213/213 [==============================] - ETA: 0s - loss: 0.1281 - accuracy: 0.9767\n",
            "Epoch 26: val_loss did not improve from 0.19440\n",
            "213/213 [==============================] - 147s 688ms/step - loss: 0.1281 - accuracy: 0.9767 - val_loss: 0.2105 - val_accuracy: 0.9555 - lr: 0.0010\n",
            "Epoch 27/40\n",
            "213/213 [==============================] - ETA: 0s - loss: 0.1376 - accuracy: 0.9758\n",
            "Epoch 27: val_loss did not improve from 0.19440\n",
            "213/213 [==============================] - 148s 696ms/step - loss: 0.1376 - accuracy: 0.9758 - val_loss: 0.2499 - val_accuracy: 0.9231 - lr: 0.0010\n",
            "Epoch 28/40\n",
            "213/213 [==============================] - ETA: 0s - loss: 0.1307 - accuracy: 0.9754\n",
            "Epoch 28: val_loss did not improve from 0.19440\n",
            "213/213 [==============================] - 147s 690ms/step - loss: 0.1307 - accuracy: 0.9754 - val_loss: 0.2458 - val_accuracy: 0.9561 - lr: 0.0010\n"
          ]
        }
      ],
      "source": [
        "history = model.fit_generator(train_generator,\n",
        "                              epochs=40,\n",
        "                              steps_per_epoch = 10682 // batch_size,\n",
        "                              validation_data = validation_generator,\n",
        "                              validation_steps = 3562 // batch_size,\n",
        "                              callbacks=[earlystopping,checkpoint,reduceLROnPlat])"
      ]
    },
    {
      "cell_type": "markdown",
      "metadata": {
        "id": "Bk0rkLjTUKy7"
      },
      "source": [
        "criando graficos"
      ]
    },
    {
      "cell_type": "code",
      "execution_count": null,
      "metadata": {
        "colab": {
          "base_uri": "https://localhost:8080/",
          "height": 545
        },
        "id": "ShHitmXpALjz",
        "outputId": "19d6b3cd-0988-460f-bfba-69745e2d6484"
      },
      "outputs": [
        {
          "output_type": "display_data",
          "data": {
            "text/plain": [
              "<Figure size 432x288 with 1 Axes>"
            ],
            "image/png": "[encoded data removed]"
          },
          "metadata": {}
        },
        {
          "output_type": "display_data",
          "data": {
            "text/plain": [
              "<Figure size 432x288 with 1 Axes>"
            ],
            "image/png": "[encoded data removed]"
          },
          "metadata": {}
        }
      ],
      "source": [
        "acc = history.history['accuracy']\n",
        "val_acc = history.history['val_accuracy']\n",
        "loss = history.history['loss']\n",
        "val_loss = history.history['val_loss']\n",
        "epochs = range(1, len(acc) + 1)\n",
        "plt.style.use('dark_background')\n",
        "plt.plot(epochs, acc, 'bo', label='Treino Accuracy')\n",
        "plt.plot(epochs, val_acc, 'r', label='Validation acc')\n",
        "plt.title('Treino e validação accuracy')\n",
        "plt.legend()\n",
        "plt.figure()\n",
        "plt.plot(epochs, loss, 'bo', label='Treino Perdas')\n",
        "plt.plot(epochs, val_loss, 'r', label='Validation loss')\n",
        "plt.title('Treino e Validação perda')\n",
        "plt.legend()\n",
        "plt.show()"
      ]
    },
    {
      "cell_type": "markdown",
      "metadata": {
        "id": "pkypeskMUMTy"
      },
      "source": [
        "salvando modelo"
      ]
    },
    {
      "cell_type": "code",
      "execution_count": null,
      "metadata": {
        "id": "fFTqd9u_OEbL"
      },
      "outputs": [],
      "source": [
        "#!pip install simpletransformers"
      ]
    },
    {
      "cell_type": "code",
      "execution_count": null,
      "metadata": {
        "id": "nD_YQxe767s0",
        "colab": {
          "base_uri": "https://localhost:8080/"
        },
        "outputId": "312e3f37-9223-4567-c94a-239432c3c9f8"
      },
      "outputs": [
        {
          "output_type": "stream",
          "name": "stdout",
          "text": [
            "72/72 - 28s - 28s/epoch - 386ms/step\n"
          ]
        }
      ],
      "source": [
        "\n",
        "y=np.concatenate([test_generator.next()[1] for i in range(test_generator.__len__())])\n",
        "true_labels=np.argmax(y, axis=-1)\n",
        "\n",
        "prediction= model.predict(test_generator, verbose=2)\n",
        "prediction=np.argmax(prediction, axis=-1)"
      ]
    },
    {
      "cell_type": "markdown",
      "metadata": {
        "id": "EfO04BOSUPRd"
      },
      "source": [
        "estartisticas do nosso modelo"
      ]
    },
    {
      "cell_type": "code",
      "execution_count": null,
      "metadata": {
        "colab": {
          "base_uri": "https://localhost:8080/"
        },
        "id": "n73oq1DNG0y4",
        "outputId": "c8b86a5f-98b9-4c60-a258-8f173d524436"
      },
      "outputs": [
        {
          "output_type": "stream",
          "name": "stdout",
          "text": [
            "Accuracy: 0.943\n",
            "Precisao: 0.945\n"
          ]
        }
      ],
      "source": [
        "from sklearn.metrics import accuracy_score\n",
        "acc=accuracy_score(true_labels,prediction) \n",
        "print('Accuracy: %.3f' % acc)\n",
        "from sklearn.metrics import precision_score\n",
        "precision = precision_score(true_labels,prediction,labels=[1,2], average='micro')\n",
        "print('Precisao: %.3f' % precision)\n",
        "from sklearn.metrics import recall_score\n",
        "recall = recall_score(true_labels,prediction, average='binary')\n"
      ]
    },
    {
      "cell_type": "code",
      "execution_count": null,
      "metadata": {
        "colab": {
          "base_uri": "https://localhost:8080/"
        },
        "id": "vMKWyeRgnAC3",
        "outputId": "dccd2ac3-a338-4e16-b2a5-24bfb2308634"
      },
      "outputs": [
        {
          "output_type": "execute_result",
          "data": {
            "text/plain": [
              "array([[1684,   97],\n",
              "       [ 106, 1674]])"
            ]
          },
          "metadata": {},
          "execution_count": 26
        }
      ],
      "source": [
        "from sklearn.metrics import confusion_matrix\n",
        "cm = confusion_matrix(y_true=true_labels, y_pred=prediction)\n",
        "cm"
      ]
    },
    {
      "cell_type": "code",
      "execution_count": 16,
      "metadata": {
        "id": "W-NMRvw47VTI"
      },
      "outputs": [],
      "source": [
        "from keras.preprocessing.image import load_img, img_to_array"
      ]
    },
    {
      "cell_type": "code",
      "execution_count": 17,
      "metadata": {
        "id": "ItZWejGuTwt2"
      },
      "outputs": [],
      "source": [
        "from keras import models"
      ]
    },
    {
      "cell_type": "code",
      "source": [
        "path = '/content/drive/MyDrive/chest_orientation_model.zip'\n",
        "zip_object = zipfile.ZipFile(file = path, mode='r')\n",
        "zip_object.extractall('./')\n",
        "zip_object.close()"
      ],
      "metadata": {
        "id": "WSUpaiWIHYWo"
      },
      "execution_count": 18,
      "outputs": []
    },
    {
      "cell_type": "code",
      "execution_count": 20,
      "metadata": {
        "id": "UfHwfhohTAne"
      },
      "outputs": [],
      "source": [
        "model = models.load_model('/content/chest_orientation_model.hdf5')"
      ]
    },
    {
      "cell_type": "code",
      "execution_count": 24,
      "metadata": {
        "id": "gplQY9vQb3Io"
      },
      "outputs": [],
      "source": [
        "import cv2\n",
        "import numpy as np\n",
        "from skimage.transform import resize\n",
        "from keras.preprocessing import image"
      ]
    },
    {
      "cell_type": "code",
      "source": [
        "path = '/content/drive/MyDrive/melanoma_cancer_dataset-20220802T172035Z-001.zip'\n",
        "zip_object = zipfile.ZipFile(file = path, mode='r')\n",
        "zip_object.extractall('./')\n",
        "zip_object.close()"
      ],
      "metadata": {
        "id": "ePMPau6wom_g"
      },
      "execution_count": 129,
      "outputs": []
    },
    {
      "cell_type": "code",
      "source": [
        "img = Image.open('/content/melanoma_cancer_dataset-20220802T172035Z-001/melanoma_cancer_dataset/test/benign/melanoma_9611.jpg')\n",
        "img_np = np.array(img, 'uint8')"
      ],
      "metadata": {
        "id": "WEluv63j8Hh-"
      },
      "execution_count": 185,
      "outputs": []
    },
    {
      "cell_type": "code",
      "source": [
        "img_np.shape"
      ],
      "metadata": {
        "colab": {
          "base_uri": "https://localhost:8080/"
        },
        "id": "IIvty5ZT8dE9",
        "outputId": "2d7bcc68-1704-4310-bb59-4f1d93d579fa"
      },
      "execution_count": 186,
      "outputs": [
        {
          "output_type": "execute_result",
          "data": {
            "text/plain": [
              "(100, 100, 3)"
            ]
          },
          "metadata": {},
          "execution_count": 186
        }
      ]
    },
    {
      "cell_type": "code",
      "execution_count": 187,
      "metadata": {
        "id": "i1jRdQlWJ_V4",
        "colab": {
          "base_uri": "https://localhost:8080/"
        },
        "outputId": "01e6f1cb-7bf6-479d-b59e-fb415da58231"
      },
      "outputs": [
        {
          "output_type": "stream",
          "name": "stdout",
          "text": [
            "[[0. 1.]]\n"
          ]
        }
      ],
      "source": [
        "reconhecedor = model.predict(img_np.reshape(1, 100,100,3))\n",
        "print(reconhecedor)"
      ]
    },
    {
      "cell_type": "code",
      "source": [
        "pred_class = np.argmax(reconhecedor)\n",
        "if pred_class == 0:\n",
        "  print('Benigno!')\n",
        "elif pred_class == 1:\n",
        "  print('Maligno!')"
      ],
      "metadata": {
        "colab": {
          "base_uri": "https://localhost:8080/"
        },
        "id": "IOVa_xndflL1",
        "outputId": "35f3744c-27ae-4546-83a5-5ecb4abf6b14"
      },
      "execution_count": 192,
      "outputs": [
        {
          "output_type": "stream",
          "name": "stdout",
          "text": [
            "Maligno!\n"
          ]
        }
      ]
    },
    {
      "cell_type": "code",
      "source": [
        "def dados_imagem():\n",
        "  caminhos = [os.path.join('/content/melanoma_cancer_dataset-20220802T172035Z-001/melanoma_cancer_dataset/test/benign', f) for f in os.listdir('/content/melanoma_cancer_dataset-20220802T172035Z-001/melanoma_cancer_dataset/test/benign')]\n",
        "  rec = []\n",
        "  for caminho in caminhos:\n",
        "    img = cv2.imread(caminho)\n",
        "    img_np = np.array(img, 'uint8')\n",
        "    reconhecedor1 = model.predict(img_np.reshape(1, 100,100,3))\n",
        "    rec.append(reconhecedor1)\n",
        "    print(rec)\n",
        "  return rec"
      ],
      "metadata": {
        "id": "FgjuCssYr95Z"
      },
      "execution_count": 183,
      "outputs": []
    },
    {
      "cell_type": "code",
      "source": [
        "rec = dados_imagem()"
      ],
      "metadata": {
        "colab": {
          "base_uri": "https://localhost:8080/",
          "height": 287
        },
        "id": "6-KgmoVPskrM",
        "outputId": "881728cf-181c-411f-b407-add423da90ca"
      },
      "execution_count": 190,
      "outputs": [
        {
          "output_type": "error",
          "ename": "TypeError",
          "evalue": "ignored",
          "traceback": [
            "\u001b[0;31m---------------------------------------------------------------------------\u001b[0m",
            "\u001b[0;31mTypeError\u001b[0m                                 Traceback (most recent call last)",
            "\u001b[0;32m<ipython-input-190-8a4f32753164>\u001b[0m in \u001b[0;36m<module>\u001b[0;34m()\u001b[0m\n\u001b[0;32m----> 1\u001b[0;31m \u001b[0mrec\u001b[0m \u001b[0;34m=\u001b[0m \u001b[0mdados_imagem\u001b[0m\u001b[0;34m(\u001b[0m\u001b[0;34m)\u001b[0m\u001b[0;34m\u001b[0m\u001b[0;34m\u001b[0m\u001b[0m\n\u001b[0m",
            "\u001b[0;32m<ipython-input-183-f58f91df15d9>\u001b[0m in \u001b[0;36mdados_imagem\u001b[0;34m()\u001b[0m\n\u001b[1;32m      4\u001b[0m   \u001b[0;32mfor\u001b[0m \u001b[0mcaminho\u001b[0m \u001b[0;32min\u001b[0m \u001b[0mcaminhos\u001b[0m\u001b[0;34m:\u001b[0m\u001b[0;34m\u001b[0m\u001b[0;34m\u001b[0m\u001b[0m\n\u001b[1;32m      5\u001b[0m     \u001b[0mimg\u001b[0m \u001b[0;34m=\u001b[0m \u001b[0mcv2\u001b[0m\u001b[0;34m.\u001b[0m\u001b[0mimread\u001b[0m\u001b[0;34m(\u001b[0m\u001b[0mcaminho\u001b[0m\u001b[0;34m)\u001b[0m\u001b[0;34m\u001b[0m\u001b[0;34m\u001b[0m\u001b[0m\n\u001b[0;32m----> 6\u001b[0;31m     \u001b[0mimg_np\u001b[0m \u001b[0;34m=\u001b[0m \u001b[0mnp\u001b[0m\u001b[0;34m.\u001b[0m\u001b[0marray\u001b[0m\u001b[0;34m(\u001b[0m\u001b[0mimg\u001b[0m\u001b[0;34m,\u001b[0m \u001b[0;34m'uint8'\u001b[0m\u001b[0;34m)\u001b[0m\u001b[0;34m\u001b[0m\u001b[0;34m\u001b[0m\u001b[0m\n\u001b[0m\u001b[1;32m      7\u001b[0m     \u001b[0mreconhecedor1\u001b[0m \u001b[0;34m=\u001b[0m \u001b[0mmodel\u001b[0m\u001b[0;34m.\u001b[0m\u001b[0mpredict\u001b[0m\u001b[0;34m(\u001b[0m\u001b[0mimg_np\u001b[0m\u001b[0;34m.\u001b[0m\u001b[0mreshape\u001b[0m\u001b[0;34m(\u001b[0m\u001b[0;36m1\u001b[0m\u001b[0;34m,\u001b[0m \u001b[0;36m100\u001b[0m\u001b[0;34m,\u001b[0m\u001b[0;36m100\u001b[0m\u001b[0;34m,\u001b[0m\u001b[0;36m3\u001b[0m\u001b[0;34m)\u001b[0m\u001b[0;34m)\u001b[0m\u001b[0;34m\u001b[0m\u001b[0;34m\u001b[0m\u001b[0m\n\u001b[1;32m      8\u001b[0m     \u001b[0mrec\u001b[0m\u001b[0;34m.\u001b[0m\u001b[0mappend\u001b[0m\u001b[0;34m(\u001b[0m\u001b[0mreconhecedor1\u001b[0m\u001b[0;34m)\u001b[0m\u001b[0;34m\u001b[0m\u001b[0;34m\u001b[0m\u001b[0m\n",
            "\u001b[0;31mTypeError\u001b[0m: int() argument must be a string, a bytes-like object or a number, not 'NoneType'"
          ]
        }
      ]
    }
  ],
  "metadata": {
    "accelerator": "GPU",
    "colab": {
      "collapsed_sections": [],
      "name": "PROJETO_FINALIZADO.ipynb",
      "provenance": [],
      "authorship_tag": "ABX9TyMq0hTk+qsjO1yPFeNFLyVP",
      "include_colab_link": true
    },
    "gpuClass": "standard",
    "kernelspec": {
      "display_name": "Python 3",
      "name": "python3"
    },
    "language_info": {
      "name": "python"
    }
  },
  "nbformat": 4,
  "nbformat_minor": 0
}