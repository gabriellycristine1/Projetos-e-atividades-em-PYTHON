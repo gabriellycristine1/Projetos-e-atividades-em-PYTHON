{
  "nbformat": 4,
  "nbformat_minor": 0,
  "metadata": {
    "colab": {
      "name": "PROJETO_FINALIZADO.ipynb",
      "provenance": [],
      "collapsed_sections": [],
      "machine_shape": "hm",
      "authorship_tag": "ABX9TyNWZK3pFI9KqcxERL8o2/B+",
      "include_colab_link": true
    },
    "kernelspec": {
      "name": "python3",
      "display_name": "Python 3"
    },
    "language_info": {
      "name": "python"
    },
    "accelerator": "GPU",
    "gpuClass": "standard"
  },
  "cells": [
    {
      "cell_type": "markdown",
      "metadata": {
        "id": "view-in-github",
        "colab_type": "text"
      },
      "source": [
        "<a href=\"https://colab.research.google.com/github/gabriellycristine1/Projetos_e_Atividades_Python/blob/main/PROJETO_FINALIZADO.ipynb\" target=\"_parent\"><img src=\"https://colab.research.google.com/assets/colab-badge.svg\" alt=\"Open In Colab\"/></a>"
      ]
    },
    {
      "cell_type": "markdown",
      "source": [
        "Importando Bibliotecas"
      ],
      "metadata": {
        "id": "aJ9JvcOLhOt8"
      }
    },
    {
      "cell_type": "code",
      "source": [
        "!pip install -U efficientnet\n",
        "import sys\n",
        "import os\n",
        "from os.path import join\n",
        "import numpy as np \n",
        "import matplotlib.pyplot as plt\n",
        "import efficientnet.keras as efn \n",
        "import tensorflow as tf\n",
        "!pip install --user tensorflow-addons==0.8.3\n",
        "!pip install --user tensorflow==2.2.0-rc3a\n",
        "from keras.preprocessing.image import load_img, img_to_array\n",
        "from keras import models, regularizers, layers, optimizers, losses, metrics\n",
        "from keras.models import Sequential\n",
        "from keras.layers import Dense , Dropout , Flatten , MaxPooling2D , BatchNormalization\n",
        "from keras.utils import np_utils\n",
        "from keras.preprocessing.image import ImageDataGenerator\n",
        "from keras.preprocessing import image\n",
        "import zipfile\n",
        "from google.colab.patches import cv2_imshow\n",
        "from google.colab import drive"
      ],
      "metadata": {
        "id": "ldtF-_cVmU4y",
        "colab": {
          "base_uri": "https://localhost:8080/"
        },
        "outputId": "eac547cb-8e83-4b0f-cafe-6c82e4cea8d0"
      },
      "execution_count": 2,
      "outputs": [
        {
          "output_type": "stream",
          "name": "stdout",
          "text": [
            "Looking in indexes: https://pypi.org/simple, https://us-python.pkg.dev/colab-wheels/public/simple/\n",
            "Collecting efficientnet\n",
            "  Downloading efficientnet-1.1.1-py3-none-any.whl (18 kB)\n",
            "Collecting keras-applications<=1.0.8,>=1.0.7\n",
            "  Downloading Keras_Applications-1.0.8-py3-none-any.whl (50 kB)\n",
            "\u001b[K     |████████████████████████████████| 50 kB 3.4 MB/s \n",
            "\u001b[?25hRequirement already satisfied: scikit-image in /usr/local/lib/python3.7/dist-packages (from efficientnet) (0.18.3)\n",
            "Requirement already satisfied: h5py in /usr/local/lib/python3.7/dist-packages (from keras-applications<=1.0.8,>=1.0.7->efficientnet) (3.1.0)\n",
            "Requirement already satisfied: numpy>=1.9.1 in /usr/local/lib/python3.7/dist-packages (from keras-applications<=1.0.8,>=1.0.7->efficientnet) (1.21.6)\n",
            "Requirement already satisfied: cached-property in /usr/local/lib/python3.7/dist-packages (from h5py->keras-applications<=1.0.8,>=1.0.7->efficientnet) (1.5.2)\n",
            "Requirement already satisfied: imageio>=2.3.0 in /usr/local/lib/python3.7/dist-packages (from scikit-image->efficientnet) (2.4.1)\n",
            "Requirement already satisfied: matplotlib!=3.0.0,>=2.0.0 in /usr/local/lib/python3.7/dist-packages (from scikit-image->efficientnet) (3.2.2)\n",
            "Requirement already satisfied: networkx>=2.0 in /usr/local/lib/python3.7/dist-packages (from scikit-image->efficientnet) (2.6.3)\n",
            "Requirement already satisfied: tifffile>=2019.7.26 in /usr/local/lib/python3.7/dist-packages (from scikit-image->efficientnet) (2021.11.2)\n",
            "Requirement already satisfied: scipy>=1.0.1 in /usr/local/lib/python3.7/dist-packages (from scikit-image->efficientnet) (1.7.3)\n",
            "Requirement already satisfied: PyWavelets>=1.1.1 in /usr/local/lib/python3.7/dist-packages (from scikit-image->efficientnet) (1.3.0)\n",
            "Requirement already satisfied: pillow!=7.1.0,!=7.1.1,>=4.3.0 in /usr/local/lib/python3.7/dist-packages (from scikit-image->efficientnet) (7.1.2)\n",
            "Requirement already satisfied: kiwisolver>=1.0.1 in /usr/local/lib/python3.7/dist-packages (from matplotlib!=3.0.0,>=2.0.0->scikit-image->efficientnet) (1.4.4)\n",
            "Requirement already satisfied: cycler>=0.10 in /usr/local/lib/python3.7/dist-packages (from matplotlib!=3.0.0,>=2.0.0->scikit-image->efficientnet) (0.11.0)\n",
            "Requirement already satisfied: pyparsing!=2.0.4,!=2.1.2,!=2.1.6,>=2.0.1 in /usr/local/lib/python3.7/dist-packages (from matplotlib!=3.0.0,>=2.0.0->scikit-image->efficientnet) (3.0.9)\n",
            "Requirement already satisfied: python-dateutil>=2.1 in /usr/local/lib/python3.7/dist-packages (from matplotlib!=3.0.0,>=2.0.0->scikit-image->efficientnet) (2.8.2)\n",
            "Requirement already satisfied: typing-extensions in /usr/local/lib/python3.7/dist-packages (from kiwisolver>=1.0.1->matplotlib!=3.0.0,>=2.0.0->scikit-image->efficientnet) (4.1.1)\n",
            "Requirement already satisfied: six>=1.5 in /usr/local/lib/python3.7/dist-packages (from python-dateutil>=2.1->matplotlib!=3.0.0,>=2.0.0->scikit-image->efficientnet) (1.15.0)\n",
            "Installing collected packages: keras-applications, efficientnet\n",
            "Successfully installed efficientnet-1.1.1 keras-applications-1.0.8\n",
            "Looking in indexes: https://pypi.org/simple, https://us-python.pkg.dev/colab-wheels/public/simple/\n",
            "Collecting tensorflow-addons==0.8.3\n",
            "  Downloading tensorflow_addons-0.8.3-cp37-cp37m-manylinux2010_x86_64.whl (1.0 MB)\n",
            "\u001b[K     |████████████████████████████████| 1.0 MB 5.1 MB/s \n",
            "\u001b[?25hRequirement already satisfied: typeguard in /usr/local/lib/python3.7/dist-packages (from tensorflow-addons==0.8.3) (2.7.1)\n",
            "Installing collected packages: tensorflow-addons\n",
            "Successfully installed tensorflow-addons-0.8.3\n",
            "Looking in indexes: https://pypi.org/simple, https://us-python.pkg.dev/colab-wheels/public/simple/\n",
            "\u001b[31mERROR: Could not find a version that satisfies the requirement tensorflow==2.2.0-rc3a (from versions: 1.13.1, 1.13.2, 1.14.0, 1.15.0, 1.15.2, 1.15.3, 1.15.4, 1.15.5, 2.0.0, 2.0.1, 2.0.2, 2.0.3, 2.0.4, 2.1.0, 2.1.1, 2.1.2, 2.1.3, 2.1.4, 2.2.0, 2.2.1, 2.2.2, 2.2.3, 2.3.0, 2.3.1, 2.3.2, 2.3.3, 2.3.4, 2.4.0, 2.4.1, 2.4.2, 2.4.3, 2.4.4, 2.5.0, 2.5.1, 2.5.2, 2.5.3, 2.6.0rc0, 2.6.0rc1, 2.6.0rc2, 2.6.0, 2.6.0+zzzcolab20220506153740, 2.6.1, 2.6.2, 2.6.3, 2.6.4, 2.6.4+zzzcolab20220516125453, 2.6.5, 2.6.5+zzzcolab20220523104206, 2.7.0rc0, 2.7.0rc1, 2.7.0, 2.7.0+zzzcolab20220506150900, 2.7.1, 2.7.2, 2.7.2+zzzcolab20220516114640, 2.7.3, 2.7.3+zzzcolab20220523111007, 2.8.0rc0, 2.8.0rc1, 2.8.0, 2.8.0+zzzcolab20220506162203, 2.8.1, 2.8.1+zzzcolab20220516111314, 2.8.1+zzzcolab20220518083849, 2.8.2, 2.8.2+zzzcolab20220523105045, 2.8.2+zzzcolab20220527125636, 2.8.2+zzzcolab20220629235552, 2.8.2+zzzcolab20220714152931, 2.8.2+zzzcolab20220714162028, 2.8.2+zzzcolab20220719082949, 2.9.0rc0, 2.9.0rc1, 2.9.0rc2, 2.9.0, 2.9.1)\u001b[0m\n",
            "\u001b[31mERROR: No matching distribution found for tensorflow==2.2.0-rc3a\u001b[0m\n"
          ]
        }
      ]
    },
    {
      "cell_type": "markdown",
      "source": [
        "conectando o drive ao google colab para importação do arquivo"
      ],
      "metadata": {
        "id": "lniSzLoDhTbC"
      }
    },
    {
      "cell_type": "code",
      "execution_count": 3,
      "metadata": {
        "id": "OKBjYLqcmO3u",
        "colab": {
          "base_uri": "https://localhost:8080/"
        },
        "outputId": "01c863b1-ccd8-4aaf-9e22-36146fcd0a42"
      },
      "outputs": [
        {
          "output_type": "stream",
          "name": "stdout",
          "text": [
            "Mounted at /content/drive\n"
          ]
        }
      ],
      "source": [
        "from google.colab import drive\n",
        "drive.mount('/content/drive')"
      ]
    },
    {
      "cell_type": "markdown",
      "source": [
        "abrindo o arquivo zipado"
      ],
      "metadata": {
        "id": "-4YaZVbYhdta"
      }
    },
    {
      "cell_type": "code",
      "source": [
        "path = '/content/drive/MyDrive/MELANOMA_FINAL.zip'\n",
        "zip_object = zipfile.ZipFile(file = path, mode='r')\n",
        "zip_object.extractall('./')\n",
        "zip_object.close()"
      ],
      "metadata": {
        "id": "pw78_sLYmZyq"
      },
      "execution_count": 4,
      "outputs": []
    },
    {
      "cell_type": "markdown",
      "source": [
        "copiando o caminho do diretorio"
      ],
      "metadata": {
        "id": "EJnnpPGPhnOc"
      }
    },
    {
      "cell_type": "code",
      "source": [
        "PATH = \"/content/DermMel\""
      ],
      "metadata": {
        "id": "4CPjbD8a6mmy"
      },
      "execution_count": 5,
      "outputs": []
    },
    {
      "cell_type": "markdown",
      "source": [
        "verificando o nome das pastas"
      ],
      "metadata": {
        "id": "EFx9y3nKhqsA"
      }
    },
    {
      "cell_type": "code",
      "source": [
        "print('Total Directories')\n",
        "display(os.listdir(PATH))"
      ],
      "metadata": {
        "colab": {
          "base_uri": "https://localhost:8080/",
          "height": 52
        },
        "id": "PTvZx4cUmcP-",
        "outputId": "0fad2ba0-278c-428a-9eae-0bf04abe0a35"
      },
      "execution_count": 6,
      "outputs": [
        {
          "output_type": "stream",
          "name": "stdout",
          "text": [
            "Total Directories\n"
          ]
        },
        {
          "output_type": "display_data",
          "data": {
            "text/plain": [
              "['train_sep', 'valid', 'test']"
            ]
          },
          "metadata": {}
        }
      ]
    },
    {
      "cell_type": "markdown",
      "source": [
        "verificação de quantas imagens temos para treino, teste e validação "
      ],
      "metadata": {
        "id": "RFoqCcOBhtmz"
      }
    },
    {
      "cell_type": "code",
      "source": [
        "PATHtrain = \"/content/DermMel/train_sep\"\n",
        "print(len(os.listdir(PATHtrain)), \"PASTAS DE TREINO\")\n",
        "drs = os.listdir(PATHtrain)\n",
        "im_len = 0\n",
        "for label in sorted(drs):\n",
        "    print(label,len(os.listdir('/content/DermMel/train_sep/Melanoma')))\n",
        "    im_len = im_len + len(os.listdir('/content/DermMel/train_sep/NotMelanoma'))\n",
        "\n",
        "print(\"TOTAL DE FOTOS PARA TREINO\", im_len)\n",
        "print(\"_\"*50)\n",
        "\n",
        "PATHvalid = '/content/DermMel/valid'\n",
        "print(len(os.listdir(PATHvalid)), \"PASTAS DE VALIDAÇÃO\")\n",
        "drs = os.listdir(PATHvalid)\n",
        "im_len = 0\n",
        "for label in sorted(drs):\n",
        "    print(label,len(os.listdir('/content/DermMel/valid/Melanoma')))\n",
        "    im_len = im_len + len(os.listdir('/content/DermMel/valid/NotMelanoma'))\n",
        "\n",
        "print(\"TOTAL DE FOTOS PARA VALIDAÇÃO\", im_len)\n",
        "print(\"_\"*50)\n",
        "\n",
        "PATHtest ='/content/DermMel/test'\n",
        "print(len(os.listdir(PATHtest)), \"PASTAS DE TESTE\")\n",
        "drs = os.listdir(PATHtest)\n",
        "im_len = 0\n",
        "\n",
        "for label in sorted(drs):\n",
        "    print(label,len(os.listdir('/content/DermMel/test/Melanoma')))\n",
        "    im_len = im_len + len(os.listdir('/content/DermMel/test/NotMelanoma'))\n",
        "\n",
        "print(\"TOTAL DE FOTOS PARA TESTE\", im_len)\n",
        "print(\"_\"*50)"
      ],
      "metadata": {
        "id": "25U_njv_9PGX",
        "colab": {
          "base_uri": "https://localhost:8080/"
        },
        "outputId": "d85a2ab4-40b9-4576-92e9-0e50630030a3"
      },
      "execution_count": 7,
      "outputs": [
        {
          "output_type": "stream",
          "name": "stdout",
          "text": [
            "2 PASTAS DE TREINO\n",
            "Melanoma 5341\n",
            "NotMelanoma 5341\n",
            "TOTAL DE FOTOS PARA TREINO 10682\n",
            "__________________________________________________\n",
            "2 PASTAS DE VALIDAÇÃO\n",
            "Melanoma 1781\n",
            "NotMelanoma 1781\n",
            "TOTAL DE FOTOS PARA VALIDAÇÃO 3562\n",
            "__________________________________________________\n",
            "2 PASTAS DE TESTE\n",
            "Melanoma 1781\n",
            "NotMelanoma 1781\n",
            "TOTAL DE FOTOS PARA TESTE 3560\n",
            "__________________________________________________\n"
          ]
        }
      ]
    },
    {
      "cell_type": "code",
      "source": [
        "from PIL import Image\n",
        "import cv2\n",
        "from google.colab.patches import cv2_imshow"
      ],
      "metadata": {
        "id": "qdVzjmN76Fiy"
      },
      "execution_count": 8,
      "outputs": []
    },
    {
      "cell_type": "markdown",
      "source": [
        "função criada para converter as imagens em escala de cinza"
      ],
      "metadata": {
        "id": "CbkWCekzh3JT"
      }
    },
    {
      "cell_type": "code",
      "source": [
        "def dados_imagem():\n",
        "  caminhos = [os.path.join('/content/DermMel/train_sep/Melanoma', f) for f in os.listdir('/content/DermMel/train_sep/Melanoma')]\n",
        "  mela = []\n",
        "  for caminho in caminhos:\n",
        "    imagem = cv2.imread(caminho)\n",
        "    imagem = Image.open(caminho).convert('L')\n",
        "    \n",
        "    mela.append(imagem)\n",
        "  return mela"
      ],
      "metadata": {
        "id": "_b3IDpBv6AUE"
      },
      "execution_count": 9,
      "outputs": []
    },
    {
      "cell_type": "code",
      "source": [
        "mela = dados_imagem()"
      ],
      "metadata": {
        "id": "_MYtWGRS6JTB"
      },
      "execution_count": 10,
      "outputs": []
    },
    {
      "cell_type": "code",
      "source": [
        "from efficientnet.tfkeras import EfficientNetB7\n",
        "from keras.callbacks import EarlyStopping,ModelCheckpoint\n",
        "from keras.layers import MaxPool2D\n",
        "from keras.regularizers import l2\n",
        "from google.colab.patches import cv2\n",
        "from keras.layers.convolutional import Conv2D\n",
        "from keras.layers.convolutional import MaxPooling2D"
      ],
      "metadata": {
        "id": "BYPWtuw_6Rnq"
      },
      "execution_count": 11,
      "outputs": []
    },
    {
      "cell_type": "markdown",
      "source": [
        "O EfficientNetB0 é usado porque é um modelo confiável para uma precisão relativamente boa e porque é rápido de treinar devido ao baixo número de parâmetros."
      ],
      "metadata": {
        "id": "no4AVZwniPSi"
      }
    },
    {
      "cell_type": "code",
      "source": [
        "eff = EfficientNetB7(input_shape=(100 , 100 , 3) , include_top=False , weights='imagenet')\n",
        "\n",
        "model = Sequential()\n",
        "model.add(eff)\n",
        "model.add(Flatten())\n",
        "model.add(Dropout(0.3))\n",
        "model.add(Dense(128 , activation='relu' , kernel_regularizer=regularizers.l2(0.01) ))\n",
        "model.add(BatchNormalization())\n",
        "model.add(Dropout(0.3))\n",
        "model.add(Dense(2, activation='sigmoid')) "
      ],
      "metadata": {
        "id": "57RPDvY66Xzh",
        "colab": {
          "base_uri": "https://localhost:8080/"
        },
        "outputId": "5de0342e-176b-44c3-8cc6-952301da2001"
      },
      "execution_count": 12,
      "outputs": [
        {
          "output_type": "stream",
          "name": "stdout",
          "text": [
            "Downloading data from https://github.com/Callidior/keras-applications/releases/download/efficientnet/efficientnet-b7_weights_tf_dim_ordering_tf_kernels_autoaugment_notop.h5\n",
            "258441216/258434480 [==============================] - 2s 0us/step\n",
            "258449408/258434480 [==============================] - 2s 0us/step\n"
          ]
        }
      ]
    },
    {
      "cell_type": "code",
      "source": [
        "model.summary()"
      ],
      "metadata": {
        "colab": {
          "base_uri": "https://localhost:8080/"
        },
        "id": "coMVI-8bjSIm",
        "outputId": "47aea612-88fa-42f5-c3bb-e6e00e18a5cb"
      },
      "execution_count": 13,
      "outputs": [
        {
          "output_type": "stream",
          "name": "stdout",
          "text": [
            "Model: \"sequential\"\n",
            "_________________________________________________________________\n",
            " Layer (type)                Output Shape              Param #   \n",
            "=================================================================\n",
            " efficientnet-b7 (Functional  (None, 4, 4, 2560)       64097680  \n",
            " )                                                               \n",
            "                                                                 \n",
            " flatten (Flatten)           (None, 40960)             0         \n",
            "                                                                 \n",
            " dropout (Dropout)           (None, 40960)             0         \n",
            "                                                                 \n",
            " dense (Dense)               (None, 128)               5243008   \n",
            "                                                                 \n",
            " batch_normalization (BatchN  (None, 128)              512       \n",
            " ormalization)                                                   \n",
            "                                                                 \n",
            " dropout_1 (Dropout)         (None, 128)               0         \n",
            "                                                                 \n",
            " dense_1 (Dense)             (None, 2)                 258       \n",
            "                                                                 \n",
            "=================================================================\n",
            "Total params: 69,341,458\n",
            "Trainable params: 69,030,482\n",
            "Non-trainable params: 310,976\n",
            "_________________________________________________________________\n"
          ]
        }
      ]
    },
    {
      "cell_type": "markdown",
      "source": [
        "usando o \"imageDataGenerator\" para gerar novas imagens para treino e definindo as classes em 0 e 1"
      ],
      "metadata": {
        "id": "VJulqgPcitNU"
      }
    },
    {
      "cell_type": "code",
      "source": [
        "train_dir = PATHtrain\n",
        "validation_dir = PATHvalid\n",
        "test_dir = PATHtest\n",
        "batch_size = 50\n",
        "target_size=(100, 100)\n",
        "\n",
        "#train_datagen = ImageDataGenerator(rescale=1./255)\n",
        "train_datagen = ImageDataGenerator(rescale=1./255,\n",
        "                                   rotation_range=40,\n",
        "                                   width_shift_range=0.2,\n",
        "                                   height_shift_range=0.2,\n",
        "                                   shear_range=0.2,\n",
        "                                   zoom_range=0.2,\n",
        "                                   fill_mode='nearest')\n",
        "\n",
        "test_datagen = ImageDataGenerator(rescale=1./255)\n",
        "\n",
        "train_generator = train_datagen.flow_from_directory(\n",
        "    train_dir,target_size=target_size,batch_size=batch_size)\n",
        "validation_generator = test_datagen.flow_from_directory(\n",
        "    validation_dir,target_size=target_size,batch_size=batch_size)\n",
        "test_generator = test_datagen.flow_from_directory(\n",
        "    test_dir,target_size=target_size,batch_size=batch_size)"
      ],
      "metadata": {
        "colab": {
          "base_uri": "https://localhost:8080/"
        },
        "id": "PVQw9tg-6bLi",
        "outputId": "defb2911-4f1a-442b-a61a-7299a2c27cd7"
      },
      "execution_count": 14,
      "outputs": [
        {
          "output_type": "stream",
          "name": "stdout",
          "text": [
            "Found 10682 images belonging to 2 classes.\n",
            "Found 3562 images belonging to 2 classes.\n",
            "Found 3561 images belonging to 2 classes.\n"
          ]
        }
      ]
    },
    {
      "cell_type": "markdown",
      "source": [
        "verificando as classes"
      ],
      "metadata": {
        "id": "wis4jam27nPb"
      }
    },
    {
      "cell_type": "code",
      "source": [
        "print(train_generator.class_indices)"
      ],
      "metadata": {
        "colab": {
          "base_uri": "https://localhost:8080/"
        },
        "id": "JI2bRR7r6lcs",
        "outputId": "fc8a91d5-3264-4704-b8b3-dc86855a6739"
      },
      "execution_count": 15,
      "outputs": [
        {
          "output_type": "stream",
          "name": "stdout",
          "text": [
            "{'Melanoma': 0, 'NotMelanoma': 1}\n"
          ]
        }
      ]
    },
    {
      "cell_type": "markdown",
      "source": [
        "definindo os parametros que vao ser usados dentro de callback"
      ],
      "metadata": {
        "id": "Ew4QB-Do7s0A"
      }
    },
    {
      "cell_type": "code",
      "source": [
        "earlystopping = EarlyStopping(monitor =\"val_loss\", \n",
        "                                        patience = 8, \n",
        "                                        restore_best_weights = True)\n",
        "\n",
        "model.compile(optimizer='adam',\n",
        "              loss='binary_crossentropy',\n",
        "              metrics=['accuracy'] )  "
      ],
      "metadata": {
        "id": "QBNmPf7M6nvt"
      },
      "execution_count": 16,
      "outputs": []
    },
    {
      "cell_type": "code",
      "source": [
        "checkpoint = ModelCheckpoint('chest_orientation_model.hdf5', \n",
        "                             monitor='val_loss', \n",
        "                             verbose=1, mode='min', \n",
        "                             save_best_only=True)\n"
      ],
      "metadata": {
        "id": "Ns415J8x7tw3"
      },
      "execution_count": 17,
      "outputs": []
    },
    {
      "cell_type": "code",
      "source": [
        "from keras.callbacks import ModelCheckpoint, LearningRateScheduler, EarlyStopping, ReduceLROnPlateau"
      ],
      "metadata": {
        "id": "FgqgQMrMO7WX"
      },
      "execution_count": 18,
      "outputs": []
    },
    {
      "cell_type": "code",
      "source": [
        "reduceLROnPlat = ReduceLROnPlateau(monitor='val_loss', factor=0.8, patience=10, verbose=1, mode='auto', epsilon=0.0001)"
      ],
      "metadata": {
        "colab": {
          "base_uri": "https://localhost:8080/"
        },
        "id": "QPrXn4OIO0qU",
        "outputId": "82f3807d-24ad-4fc2-c168-d7ece3ccd677"
      },
      "execution_count": 19,
      "outputs": [
        {
          "output_type": "stream",
          "name": "stdout",
          "text": [
            "WARNING:tensorflow:`epsilon` argument is deprecated and will be removed, use `min_delta` instead.\n"
          ]
        }
      ]
    },
    {
      "cell_type": "markdown",
      "source": [
        "treianando e validando nosso modelo"
      ],
      "metadata": {
        "id": "0LmAhIm-TDwW"
      }
    },
    {
      "cell_type": "code",
      "source": [
        "history = model.fit_generator(train_generator,\n",
        "                              epochs=9,\n",
        "                              steps_per_epoch = 10682 // batch_size,\n",
        "                              validation_data = validation_generator,\n",
        "                              validation_steps = 3562 // batch_size,\n",
        "                              callbacks=[earlystopping,checkpoint,reduceLROnPlat])"
      ],
      "metadata": {
        "colab": {
          "base_uri": "https://localhost:8080/"
        },
        "id": "FBCChtzt6q_n",
        "outputId": "efeea70e-704f-40e3-95af-a42d82f365c4"
      },
      "execution_count": 20,
      "outputs": [
        {
          "output_type": "stream",
          "name": "stderr",
          "text": [
            "/usr/local/lib/python3.7/dist-packages/ipykernel_launcher.py:6: UserWarning: `Model.fit_generator` is deprecated and will be removed in a future version. Please use `Model.fit`, which supports generators.\n",
            "  \n"
          ]
        },
        {
          "output_type": "stream",
          "name": "stdout",
          "text": [
            "Epoch 1/9\n",
            "213/213 [==============================] - ETA: 0s - loss: 1.0762 - accuracy: 0.8741\n",
            "Epoch 1: val_loss improved from inf to 1.30331, saving model to chest_orientation_model.hdf5\n",
            "213/213 [==============================] - 216s 813ms/step - loss: 1.0762 - accuracy: 0.8741 - val_loss: 1.3033 - val_accuracy: 0.5265 - lr: 0.0010\n",
            "Epoch 2/9\n",
            "213/213 [==============================] - ETA: 0s - loss: 0.3427 - accuracy: 0.9239\n",
            "Epoch 2: val_loss improved from 1.30331 to 0.56924, saving model to chest_orientation_model.hdf5\n",
            "213/213 [==============================] - 167s 783ms/step - loss: 0.3427 - accuracy: 0.9239 - val_loss: 0.5692 - val_accuracy: 0.8048 - lr: 0.0010\n",
            "Epoch 3/9\n",
            "213/213 [==============================] - ETA: 0s - loss: 0.3079 - accuracy: 0.9326\n",
            "Epoch 3: val_loss improved from 0.56924 to 0.30621, saving model to chest_orientation_model.hdf5\n",
            "213/213 [==============================] - 167s 784ms/step - loss: 0.3079 - accuracy: 0.9326 - val_loss: 0.3062 - val_accuracy: 0.9361 - lr: 0.0010\n",
            "Epoch 4/9\n",
            "213/213 [==============================] - ETA: 0s - loss: 0.2875 - accuracy: 0.9401\n",
            "Epoch 4: val_loss improved from 0.30621 to 0.29229, saving model to chest_orientation_model.hdf5\n",
            "213/213 [==============================] - 166s 780ms/step - loss: 0.2875 - accuracy: 0.9401 - val_loss: 0.2923 - val_accuracy: 0.9403 - lr: 0.0010\n",
            "Epoch 5/9\n",
            "213/213 [==============================] - ETA: 0s - loss: 0.2800 - accuracy: 0.9408\n",
            "Epoch 5: val_loss improved from 0.29229 to 0.25788, saving model to chest_orientation_model.hdf5\n",
            "213/213 [==============================] - 167s 782ms/step - loss: 0.2800 - accuracy: 0.9408 - val_loss: 0.2579 - val_accuracy: 0.9425 - lr: 0.0010\n",
            "Epoch 6/9\n",
            "213/213 [==============================] - ETA: 0s - loss: 0.2272 - accuracy: 0.9491\n",
            "Epoch 6: val_loss did not improve from 0.25788\n",
            "213/213 [==============================] - 163s 762ms/step - loss: 0.2272 - accuracy: 0.9491 - val_loss: 0.2687 - val_accuracy: 0.9456 - lr: 0.0010\n",
            "Epoch 7/9\n",
            "213/213 [==============================] - ETA: 0s - loss: 0.2348 - accuracy: 0.9472\n",
            "Epoch 7: val_loss did not improve from 0.25788\n",
            "213/213 [==============================] - 162s 761ms/step - loss: 0.2348 - accuracy: 0.9472 - val_loss: 0.4061 - val_accuracy: 0.9231 - lr: 0.0010\n",
            "Epoch 8/9\n",
            "213/213 [==============================] - ETA: 0s - loss: 0.2052 - accuracy: 0.9517\n",
            "Epoch 8: val_loss improved from 0.25788 to 0.22841, saving model to chest_orientation_model.hdf5\n",
            "213/213 [==============================] - 166s 779ms/step - loss: 0.2052 - accuracy: 0.9517 - val_loss: 0.2284 - val_accuracy: 0.9456 - lr: 0.0010\n",
            "Epoch 9/9\n",
            "213/213 [==============================] - ETA: 0s - loss: 0.2388 - accuracy: 0.9486\n",
            "Epoch 9: val_loss improved from 0.22841 to 0.21036, saving model to chest_orientation_model.hdf5\n",
            "213/213 [==============================] - 166s 780ms/step - loss: 0.2388 - accuracy: 0.9486 - val_loss: 0.2104 - val_accuracy: 0.9532 - lr: 0.0010\n"
          ]
        }
      ]
    },
    {
      "cell_type": "markdown",
      "source": [
        "criando graficos"
      ],
      "metadata": {
        "id": "Bk0rkLjTUKy7"
      }
    },
    {
      "cell_type": "code",
      "source": [
        "acc = history.history['accuracy']\n",
        "val_acc = history.history['val_accuracy']\n",
        "loss = history.history['loss']\n",
        "val_loss = history.history['val_loss']\n",
        "epochs = range(1, len(acc) + 1)\n",
        "plt.style.use('dark_background')\n",
        "plt.plot(epochs, acc, 'bo', label='Treino Accuracy')\n",
        "plt.plot(epochs, val_acc, 'r', label='Validation acc')\n",
        "plt.title('Treino e validação accuracy')\n",
        "plt.legend()\n",
        "plt.figure()\n",
        "plt.plot(epochs, loss, 'bo', label='Treino Perdas')\n",
        "plt.plot(epochs, val_loss, 'r', label='Validation loss')\n",
        "plt.title('Treino e Validação perda')\n",
        "plt.legend()\n",
        "plt.show()"
      ],
      "metadata": {
        "id": "ShHitmXpALjz",
        "colab": {
          "base_uri": "https://localhost:8080/",
          "height": 545
        },
        "outputId": "ce76f96e-c685-4d88-d55e-8876b3b04b12"
      },
      "execution_count": 21,
      "outputs": [
        {
          "output_type": "display_data",
          "data": {
            "text/plain": [
              "<Figure size 432x288 with 1 Axes>"
            ],
            "image/png": "[encoded data removed]"
          },
          "metadata": {}
        },
        {
          "output_type": "display_data",
          "data": {
            "text/plain": [
              "<Figure size 432x288 with 1 Axes>"
            ],
            "image/png": "[encoded data removed]"
          },
          "metadata": {}
        }
      ]
    },
    {
      "cell_type": "markdown",
      "source": [
        "salvando modelo"
      ],
      "metadata": {
        "id": "pkypeskMUMTy"
      }
    },
    {
      "cell_type": "code",
      "source": [
        "model.save('modelo_salvo_gabmel.hdf5')"
      ],
      "metadata": {
        "id": "pkRG7eZcGvCd"
      },
      "execution_count": 22,
      "outputs": []
    },
    {
      "cell_type": "code",
      "source": [
        "y=np.concatenate([test_generator.next()[1] for i in range(test_generator.__len__())])\n",
        "true_labels=np.argmax(y, axis=-1)\n",
        "\n",
        "prediction= model.predict(test_generator, verbose=2)\n",
        "prediction=np.argmax(prediction, axis=-1)"
      ],
      "metadata": {
        "id": "nD_YQxe767s0",
        "colab": {
          "base_uri": "https://localhost:8080/"
        },
        "outputId": "e571ec72-7b60-4ec5-8bdb-8bfe05b718b4"
      },
      "execution_count": 27,
      "outputs": [
        {
          "output_type": "stream",
          "name": "stdout",
          "text": [
            "72/72 - 22s - 22s/epoch - 306ms/step\n"
          ]
        }
      ]
    },
    {
      "cell_type": "markdown",
      "source": [
        "estartisticas do nosso modelo"
      ],
      "metadata": {
        "id": "EfO04BOSUPRd"
      }
    },
    {
      "cell_type": "code",
      "source": [
        "from sklearn.metrics import accuracy_score\n",
        "acc=accuracy_score(true_labels,prediction) \n",
        "print('Accuracy: %.3f' % acc)\n",
        "from sklearn.metrics import precision_score\n",
        "precision = precision_score(true_labels,prediction,labels=[1,2], average='micro')\n",
        "print('Precisao: %.3f' % precision)\n",
        "from sklearn.metrics import recall_score\n",
        "recall = recall_score(true_labels,prediction, average='binary')\n"
      ],
      "metadata": {
        "id": "n73oq1DNG0y4",
        "colab": {
          "base_uri": "https://localhost:8080/"
        },
        "outputId": "dd91e16b-dfd0-43f0-ca90-b73d75f55527"
      },
      "execution_count": 61,
      "outputs": [
        {
          "output_type": "stream",
          "name": "stdout",
          "text": [
            "Accuracy: 0.950\n",
            "Precisao: 0.921\n"
          ]
        }
      ]
    },
    {
      "cell_type": "code",
      "source": [
        "from sklearn.metrics import confusion_matrix\n",
        "cm = confusion_matrix(y_true=true_labels, y_pred=prediction)\n",
        "cm"
      ],
      "metadata": {
        "id": "vMKWyeRgnAC3",
        "colab": {
          "base_uri": "https://localhost:8080/"
        },
        "outputId": "ba51f7ae-c382-4d37-9aa3-acb9533d9e45"
      },
      "execution_count": 29,
      "outputs": [
        {
          "output_type": "execute_result",
          "data": {
            "text/plain": [
              "array([[1631,  150],\n",
              "       [  28, 1752]])"
            ]
          },
          "metadata": {},
          "execution_count": 29
        }
      ]
    }
  ]
}