{
  "nbformat": 4,
  "nbformat_minor": 0,
  "metadata": {
    "colab": {
      "name": "Naive Bayes_wine_red.ipynb",
      "provenance": [],
      "collapsed_sections": [],
      "authorship_tag": "ABX9TyOLU5a/XRb2DoNShXDulctp",
      "include_colab_link": true
    },
    "kernelspec": {
      "name": "python3",
      "display_name": "Python 3"
    },
    "language_info": {
      "name": "python"
    }
  },
  "cells": [
    {
      "cell_type": "markdown",
      "metadata": {
        "id": "view-in-github",
        "colab_type": "text"
      },
      "source": [
        "<a href=\"https://colab.research.google.com/github/gabriellycristine1/Projetos_e_Atividades_Python/blob/main/Naive_Bayes_wine_red.ipynb\" target=\"_parent\"><img src=\"https://colab.research.google.com/assets/colab-badge.svg\" alt=\"Open In Colab\"/></a>"
      ]
    },
    {
      "cell_type": "markdown",
      "source": [
        "IMPORTANDO BIBLIOTECAS"
      ],
      "metadata": {
        "id": "eUBk6e_Hgd67"
      }
    },
    {
      "cell_type": "code",
      "execution_count": null,
      "metadata": {
        "id": "50XfjHR2xYOT"
      },
      "outputs": [],
      "source": [
        "from sklearn.svm import SVC\n",
        "import pickle \n",
        "import pandas as pd\n",
        "from sklearn.naive_bayes import GaussianNB\n",
        "import matplotlib.pyplot as plt\n",
        "import seaborn as sns\n",
        "import plotly.express as px"
      ]
    },
    {
      "cell_type": "markdown",
      "source": [
        "IMPORTANDO DATASET PARA INICIAR A ANALISE E TRATAMENTOD DE DADOS"
      ],
      "metadata": {
        "id": "oM0qQ4s1gizR"
      }
    },
    {
      "cell_type": "code",
      "source": [
        "dados = pd.read_csv('/content/winequality-red.csv',sep=';')\n",
        "dados"
      ],
      "metadata": {
        "colab": {
          "base_uri": "https://localhost:8080/",
          "height": 424
        },
        "id": "R1XFGHDmxvBE",
        "outputId": "31bd1204-b757-408e-89a0-afbc05b086b1"
      },
      "execution_count": null,
      "outputs": [
        {
          "output_type": "execute_result",
          "data": {
            "text/plain": [
              "      fixed acidity  volatile acidity  citric acid  residual sugar  chlorides  \\\n",
              "0               7.4             0.700         0.00             1.9      0.076   \n",
              "1               7.8             0.880         0.00             2.6      0.098   \n",
              "2               7.8             0.760         0.04             2.3      0.092   \n",
              "3              11.2             0.280         0.56             1.9      0.075   \n",
              "4               7.4             0.700         0.00             1.9      0.076   \n",
              "...             ...               ...          ...             ...        ...   \n",
              "1594            6.2             0.600         0.08             2.0      0.090   \n",
              "1595            5.9             0.550         0.10             2.2      0.062   \n",
              "1596            6.3             0.510         0.13             2.3      0.076   \n",
              "1597            5.9             0.645         0.12             2.0      0.075   \n",
              "1598            6.0             0.310         0.47             3.6      0.067   \n",
              "\n",
              "      free sulfur dioxide  total sulfur dioxide  density    pH  sulphates  \\\n",
              "0                    11.0                  34.0  0.99780  3.51       0.56   \n",
              "1                    25.0                  67.0  0.99680  3.20       0.68   \n",
              "2                    15.0                  54.0  0.99700  3.26       0.65   \n",
              "3                    17.0                  60.0  0.99800  3.16       0.58   \n",
              "4                    11.0                  34.0  0.99780  3.51       0.56   \n",
              "...                   ...                   ...      ...   ...        ...   \n",
              "1594                 32.0                  44.0  0.99490  3.45       0.58   \n",
              "1595                 39.0                  51.0  0.99512  3.52       0.76   \n",
              "1596                 29.0                  40.0  0.99574  3.42       0.75   \n",
              "1597                 32.0                  44.0  0.99547  3.57       0.71   \n",
              "1598                 18.0                  42.0  0.99549  3.39       0.66   \n",
              "\n",
              "      alcohol  quality  \n",
              "0         9.4        5  \n",
              "1         9.8        5  \n",
              "2         9.8        5  \n",
              "3         9.8        6  \n",
              "4         9.4        5  \n",
              "...       ...      ...  \n",
              "1594     10.5        5  \n",
              "1595     11.2        6  \n",
              "1596     11.0        6  \n",
              "1597     10.2        5  \n",
              "1598     11.0        6  \n",
              "\n",
              "[1599 rows x 12 columns]"
            ],
            "text/html": [
              "\n",
              "  <div id=\"df-13213a84-a191-41bf-a895-f8286c47fc3a\">\n",
              "    <div class=\"colab-df-container\">\n",
              "      <div>\n",
              "<style scoped>\n",
              "    .dataframe tbody tr th:only-of-type {\n",
              "        vertical-align: middle;\n",
              "    }\n",
              "\n",
              "    .dataframe tbody tr th {\n",
              "        vertical-align: top;\n",
              "    }\n",
              "\n",
              "    .dataframe thead th {\n",
              "        text-align: right;\n",
              "    }\n",
              "</style>\n",
              "<table border=\"1\" class=\"dataframe\">\n",
              "  <thead>\n",
              "    <tr style=\"text-align: right;\">\n",
              "      <th></th>\n",
              "      <th>fixed acidity</th>\n",
              "      <th>volatile acidity</th>\n",
              "      <th>citric acid</th>\n",
              "      <th>residual sugar</th>\n",
              "      <th>chlorides</th>\n",
              "      <th>free sulfur dioxide</th>\n",
              "      <th>total sulfur dioxide</th>\n",
              "      <th>density</th>\n",
              "      <th>pH</th>\n",
              "      <th>sulphates</th>\n",
              "      <th>alcohol</th>\n",
              "      <th>quality</th>\n",
              "    </tr>\n",
              "  </thead>\n",
              "  <tbody>\n",
              "    <tr>\n",
              "      <th>0</th>\n",
              "      <td>7.4</td>\n",
              "      <td>0.700</td>\n",
              "      <td>0.00</td>\n",
              "      <td>1.9</td>\n",
              "      <td>0.076</td>\n",
              "      <td>11.0</td>\n",
              "      <td>34.0</td>\n",
              "      <td>0.99780</td>\n",
              "      <td>3.51</td>\n",
              "      <td>0.56</td>\n",
              "      <td>9.4</td>\n",
              "      <td>5</td>\n",
              "    </tr>\n",
              "    <tr>\n",
              "      <th>1</th>\n",
              "      <td>7.8</td>\n",
              "      <td>0.880</td>\n",
              "      <td>0.00</td>\n",
              "      <td>2.6</td>\n",
              "      <td>0.098</td>\n",
              "      <td>25.0</td>\n",
              "      <td>67.0</td>\n",
              "      <td>0.99680</td>\n",
              "      <td>3.20</td>\n",
              "      <td>0.68</td>\n",
              "      <td>9.8</td>\n",
              "      <td>5</td>\n",
              "    </tr>\n",
              "    <tr>\n",
              "      <th>2</th>\n",
              "      <td>7.8</td>\n",
              "      <td>0.760</td>\n",
              "      <td>0.04</td>\n",
              "      <td>2.3</td>\n",
              "      <td>0.092</td>\n",
              "      <td>15.0</td>\n",
              "      <td>54.0</td>\n",
              "      <td>0.99700</td>\n",
              "      <td>3.26</td>\n",
              "      <td>0.65</td>\n",
              "      <td>9.8</td>\n",
              "      <td>5</td>\n",
              "    </tr>\n",
              "    <tr>\n",
              "      <th>3</th>\n",
              "      <td>11.2</td>\n",
              "      <td>0.280</td>\n",
              "      <td>0.56</td>\n",
              "      <td>1.9</td>\n",
              "      <td>0.075</td>\n",
              "      <td>17.0</td>\n",
              "      <td>60.0</td>\n",
              "      <td>0.99800</td>\n",
              "      <td>3.16</td>\n",
              "      <td>0.58</td>\n",
              "      <td>9.8</td>\n",
              "      <td>6</td>\n",
              "    </tr>\n",
              "    <tr>\n",
              "      <th>4</th>\n",
              "      <td>7.4</td>\n",
              "      <td>0.700</td>\n",
              "      <td>0.00</td>\n",
              "      <td>1.9</td>\n",
              "      <td>0.076</td>\n",
              "      <td>11.0</td>\n",
              "      <td>34.0</td>\n",
              "      <td>0.99780</td>\n",
              "      <td>3.51</td>\n",
              "      <td>0.56</td>\n",
              "      <td>9.4</td>\n",
              "      <td>5</td>\n",
              "    </tr>\n",
              "    <tr>\n",
              "      <th>...</th>\n",
              "      <td>...</td>\n",
              "      <td>...</td>\n",
              "      <td>...</td>\n",
              "      <td>...</td>\n",
              "      <td>...</td>\n",
              "      <td>...</td>\n",
              "      <td>...</td>\n",
              "      <td>...</td>\n",
              "      <td>...</td>\n",
              "      <td>...</td>\n",
              "      <td>...</td>\n",
              "      <td>...</td>\n",
              "    </tr>\n",
              "    <tr>\n",
              "      <th>1594</th>\n",
              "      <td>6.2</td>\n",
              "      <td>0.600</td>\n",
              "      <td>0.08</td>\n",
              "      <td>2.0</td>\n",
              "      <td>0.090</td>\n",
              "      <td>32.0</td>\n",
              "      <td>44.0</td>\n",
              "      <td>0.99490</td>\n",
              "      <td>3.45</td>\n",
              "      <td>0.58</td>\n",
              "      <td>10.5</td>\n",
              "      <td>5</td>\n",
              "    </tr>\n",
              "    <tr>\n",
              "      <th>1595</th>\n",
              "      <td>5.9</td>\n",
              "      <td>0.550</td>\n",
              "      <td>0.10</td>\n",
              "      <td>2.2</td>\n",
              "      <td>0.062</td>\n",
              "      <td>39.0</td>\n",
              "      <td>51.0</td>\n",
              "      <td>0.99512</td>\n",
              "      <td>3.52</td>\n",
              "      <td>0.76</td>\n",
              "      <td>11.2</td>\n",
              "      <td>6</td>\n",
              "    </tr>\n",
              "    <tr>\n",
              "      <th>1596</th>\n",
              "      <td>6.3</td>\n",
              "      <td>0.510</td>\n",
              "      <td>0.13</td>\n",
              "      <td>2.3</td>\n",
              "      <td>0.076</td>\n",
              "      <td>29.0</td>\n",
              "      <td>40.0</td>\n",
              "      <td>0.99574</td>\n",
              "      <td>3.42</td>\n",
              "      <td>0.75</td>\n",
              "      <td>11.0</td>\n",
              "      <td>6</td>\n",
              "    </tr>\n",
              "    <tr>\n",
              "      <th>1597</th>\n",
              "      <td>5.9</td>\n",
              "      <td>0.645</td>\n",
              "      <td>0.12</td>\n",
              "      <td>2.0</td>\n",
              "      <td>0.075</td>\n",
              "      <td>32.0</td>\n",
              "      <td>44.0</td>\n",
              "      <td>0.99547</td>\n",
              "      <td>3.57</td>\n",
              "      <td>0.71</td>\n",
              "      <td>10.2</td>\n",
              "      <td>5</td>\n",
              "    </tr>\n",
              "    <tr>\n",
              "      <th>1598</th>\n",
              "      <td>6.0</td>\n",
              "      <td>0.310</td>\n",
              "      <td>0.47</td>\n",
              "      <td>3.6</td>\n",
              "      <td>0.067</td>\n",
              "      <td>18.0</td>\n",
              "      <td>42.0</td>\n",
              "      <td>0.99549</td>\n",
              "      <td>3.39</td>\n",
              "      <td>0.66</td>\n",
              "      <td>11.0</td>\n",
              "      <td>6</td>\n",
              "    </tr>\n",
              "  </tbody>\n",
              "</table>\n",
              "<p>1599 rows × 12 columns</p>\n",
              "</div>\n",
              "      <button class=\"colab-df-convert\" onclick=\"convertToInteractive('df-13213a84-a191-41bf-a895-f8286c47fc3a')\"\n",
              "              title=\"Convert this dataframe to an interactive table.\"\n",
              "              style=\"display:none;\">\n",
              "        \n",
              "  <svg xmlns=\"http://www.w3.org/2000/svg\" height=\"24px\"viewBox=\"0 0 24 24\"\n",
              "       width=\"24px\">\n",
              "    <path d=\"M0 0h24v24H0V0z\" fill=\"none\"/>\n",
              "    <path d=\"M18.56 5.44l.94 2.06.94-2.06 2.06-.94-2.06-.94-.94-2.06-.94 2.06-2.06.94zm-11 1L8.5 8.5l.94-2.06 2.06-.94-2.06-.94L8.5 2.5l-.94 2.06-2.06.94zm10 10l.94 2.06.94-2.06 2.06-.94-2.06-.94-.94-2.06-.94 2.06-2.06.94z\"/><path d=\"M17.41 7.96l-1.37-1.37c-.4-.4-.92-.59-1.43-.59-.52 0-1.04.2-1.43.59L10.3 9.45l-7.72 7.72c-.78.78-.78 2.05 0 2.83L4 21.41c.39.39.9.59 1.41.59.51 0 1.02-.2 1.41-.59l7.78-7.78 2.81-2.81c.8-.78.8-2.07 0-2.86zM5.41 20L4 18.59l7.72-7.72 1.47 1.35L5.41 20z\"/>\n",
              "  </svg>\n",
              "      </button>\n",
              "      \n",
              "  <style>\n",
              "    .colab-df-container {\n",
              "      display:flex;\n",
              "      flex-wrap:wrap;\n",
              "      gap: 12px;\n",
              "    }\n",
              "\n",
              "    .colab-df-convert {\n",
              "      background-color: #E8F0FE;\n",
              "      border: none;\n",
              "      border-radius: 50%;\n",
              "      cursor: pointer;\n",
              "      display: none;\n",
              "      fill: #1967D2;\n",
              "      height: 32px;\n",
              "      padding: 0 0 0 0;\n",
              "      width: 32px;\n",
              "    }\n",
              "\n",
              "    .colab-df-convert:hover {\n",
              "      background-color: #E2EBFA;\n",
              "      box-shadow: 0px 1px 2px rgba(60, 64, 67, 0.3), 0px 1px 3px 1px rgba(60, 64, 67, 0.15);\n",
              "      fill: #174EA6;\n",
              "    }\n",
              "\n",
              "    [theme=dark] .colab-df-convert {\n",
              "      background-color: #3B4455;\n",
              "      fill: #D2E3FC;\n",
              "    }\n",
              "\n",
              "    [theme=dark] .colab-df-convert:hover {\n",
              "      background-color: #434B5C;\n",
              "      box-shadow: 0px 1px 3px 1px rgba(0, 0, 0, 0.15);\n",
              "      filter: drop-shadow(0px 1px 2px rgba(0, 0, 0, 0.3));\n",
              "      fill: #FFFFFF;\n",
              "    }\n",
              "  </style>\n",
              "\n",
              "      <script>\n",
              "        const buttonEl =\n",
              "          document.querySelector('#df-13213a84-a191-41bf-a895-f8286c47fc3a button.colab-df-convert');\n",
              "        buttonEl.style.display =\n",
              "          google.colab.kernel.accessAllowed ? 'block' : 'none';\n",
              "\n",
              "        async function convertToInteractive(key) {\n",
              "          const element = document.querySelector('#df-13213a84-a191-41bf-a895-f8286c47fc3a');\n",
              "          const dataTable =\n",
              "            await google.colab.kernel.invokeFunction('convertToInteractive',\n",
              "                                                     [key], {});\n",
              "          if (!dataTable) return;\n",
              "\n",
              "          const docLinkHtml = 'Like what you see? Visit the ' +\n",
              "            '<a target=\"_blank\" href=https://colab.research.google.com/notebooks/data_table.ipynb>data table notebook</a>'\n",
              "            + ' to learn more about interactive tables.';\n",
              "          element.innerHTML = '';\n",
              "          dataTable['output_type'] = 'display_data';\n",
              "          await google.colab.output.renderOutput(dataTable, element);\n",
              "          const docLink = document.createElement('div');\n",
              "          docLink.innerHTML = docLinkHtml;\n",
              "          element.appendChild(docLink);\n",
              "        }\n",
              "      </script>\n",
              "    </div>\n",
              "  </div>\n",
              "  "
            ]
          },
          "metadata": {},
          "execution_count": 2
        }
      ]
    },
    {
      "cell_type": "markdown",
      "source": [
        "VERIFICANDO SE HÁ DADOS NULOS"
      ],
      "metadata": {
        "id": "McC2hPBlgslJ"
      }
    },
    {
      "cell_type": "code",
      "source": [
        "dados.isnull().sum()"
      ],
      "metadata": {
        "colab": {
          "base_uri": "https://localhost:8080/"
        },
        "id": "zSJHdR3ex489",
        "outputId": "70d71a79-fbe9-4cb3-bf02-78bfba2ba3c5"
      },
      "execution_count": null,
      "outputs": [
        {
          "output_type": "execute_result",
          "data": {
            "text/plain": [
              "fixed acidity           0\n",
              "volatile acidity        0\n",
              "citric acid             0\n",
              "residual sugar          0\n",
              "chlorides               0\n",
              "free sulfur dioxide     0\n",
              "total sulfur dioxide    0\n",
              "density                 0\n",
              "pH                      0\n",
              "sulphates               0\n",
              "alcohol                 0\n",
              "quality                 0\n",
              "dtype: int64"
            ]
          },
          "metadata": {},
          "execution_count": 3
        }
      ]
    },
    {
      "cell_type": "markdown",
      "source": [
        "CRIANDO GRAFICO PARA ANALISAR SE HÁ DADOS DISCREPANTES"
      ],
      "metadata": {
        "id": "wpdBh5Z-g5Du"
      }
    },
    {
      "cell_type": "code",
      "source": [
        "grafico = px.scatter_matrix(dados, dimensions = ['fixed acidity', 'volatile acidity', 'citric acid', 'residual sugar',\n",
        "       'chlorides', 'free sulfur dioxide', 'total sulfur dioxide', 'density',\n",
        "       'pH', 'sulphates', 'alcohol', 'quality'])\n",
        "grafico"
      ],
      "metadata": {
        "id": "DN0dCAr0-JyG"
      },
      "execution_count": null,
      "outputs": []
    },
    {
      "cell_type": "markdown",
      "source": [
        "ANALISANDO INDIVIDUALMENTE OS QUE MAIS PARENCIAM TER DADOS ESTRANHOS"
      ],
      "metadata": {
        "id": "rM8_USNChKWO"
      }
    },
    {
      "cell_type": "code",
      "source": [
        "grafico = px.scatter_matrix(dados, dimensions = ['sulphates'])\n",
        "grafico"
      ],
      "metadata": {
        "id": "ZAtYqmWVU4Lb"
      },
      "execution_count": null,
      "outputs": []
    },
    {
      "cell_type": "code",
      "source": [
        "grafico = px.scatter_matrix(dados, dimensions = ['total sulfur dioxide'])\n",
        "grafico"
      ],
      "metadata": {
        "id": "n4VMbcReylYH"
      },
      "execution_count": null,
      "outputs": []
    },
    {
      "cell_type": "code",
      "source": [
        "grafico = px.scatter_matrix(dados, dimensions = ['citric acid'])\n",
        "grafico"
      ],
      "metadata": {
        "id": "Gjt64WDHzrjv"
      },
      "execution_count": null,
      "outputs": []
    },
    {
      "cell_type": "markdown",
      "source": [
        "TRATANDO DADOS CRIANDO FILTROS E SUBSTITUINDO OS DADOS DISCREPANTES PELA MEDIA DA COLUNA ONDE ESSE DADO SE LOCALIZA"
      ],
      "metadata": {
        "id": "zdnOV86-hf0g"
      }
    },
    {
      "cell_type": "code",
      "source": [
        "selecao = dados.loc[dados['total sulfur dioxide']>165]\n",
        "selecao['total sulfur dioxide'] = 46.46779237023139\n",
        "selecao1 = dados.loc[dados['chlorides'] > 0.422]\n",
        "selecao1['chlorides'] = 0.087467\n",
        "selecao2 = dados.loc[dados['citric acid'] > 0.79]\n",
        "selecao2['citric acid'] = 0.270976\n",
        "selecao3 = dados.loc[dados['sulphates'] > 1.62]\n",
        "selecao3['sulphates'] = 0.658149"
      ],
      "metadata": {
        "id": "Y0OW5grqz_jz"
      },
      "execution_count": null,
      "outputs": []
    },
    {
      "cell_type": "markdown",
      "source": [
        "SUBSITUINDO ESSES VALORES NO DATASET"
      ],
      "metadata": {
        "id": "giCocliNhvF_"
      }
    },
    {
      "cell_type": "code",
      "source": [
        "dados.loc[dados['total sulfur dioxide'] > 165] = selecao\n",
        "dados.loc[dados['chlorides']> 0.422] = selecao1\n",
        "dados.loc[dados['citric acid'] > 0.79] = selecao2\n",
        "dados.iloc[dados['sulphates']>1.62] = selecao3"
      ],
      "metadata": {
        "id": "bPIhEcNK6SHk"
      },
      "execution_count": null,
      "outputs": []
    },
    {
      "cell_type": "code",
      "source": [
        "grafico = px.scatter_matrix(dados, dimensions = ['sulphates'])\n",
        "grafico"
      ],
      "metadata": {
        "id": "R3x4knC6ZNAC"
      },
      "execution_count": null,
      "outputs": []
    },
    {
      "cell_type": "code",
      "source": [
        "grafico = px.scatter_matrix(dados, dimensions = ['total sulfur dioxide'])\n",
        "grafico"
      ],
      "metadata": {
        "id": "L_qHZUUW0-8k"
      },
      "execution_count": null,
      "outputs": []
    },
    {
      "cell_type": "code",
      "source": [
        "grafico = px.scatter_matrix(dados, dimensions = ['chlorides'])\n",
        "grafico"
      ],
      "metadata": {
        "id": "CTfrstK08WGZ"
      },
      "execution_count": null,
      "outputs": []
    },
    {
      "cell_type": "code",
      "source": [
        "grafico = px.scatter_matrix(dados, dimensions = ['citric acid'])\n",
        "grafico"
      ],
      "metadata": {
        "id": "IqCVeWAT9Sbm"
      },
      "execution_count": null,
      "outputs": []
    },
    {
      "cell_type": "code",
      "source": [
        "grafico = px.scatter_matrix(dados, dimensions = [ 'citric acid','chlorides','total sulfur dioxide'])\n",
        "grafico"
      ],
      "metadata": {
        "id": "-RcjhcXh00Aj"
      },
      "execution_count": null,
      "outputs": []
    },
    {
      "cell_type": "markdown",
      "source": [
        "SEPARANDO PREVISOR E CLASSIFICADOR\n",
        "- PREVISOR = X_dados\n",
        "- CLASSIFICADOR = y_dados"
      ],
      "metadata": {
        "id": "V8UiRuAHh1XM"
      }
    },
    {
      "cell_type": "code",
      "source": [
        "X_dados = dados.iloc[:,0:11].values\n",
        "X_dados"
      ],
      "metadata": {
        "colab": {
          "base_uri": "https://localhost:8080/"
        },
        "id": "-h02nvMW_zfw",
        "outputId": "ae5006e1-f024-49fd-920f-7c8e4e750f1d"
      },
      "execution_count": null,
      "outputs": [
        {
          "output_type": "execute_result",
          "data": {
            "text/plain": [
              "array([[ 7.4  ,  0.7  ,  0.   , ...,  3.51 ,  0.56 ,  9.4  ],\n",
              "       [ 7.8  ,  0.88 ,  0.   , ...,  3.2  ,  0.68 ,  9.8  ],\n",
              "       [ 7.8  ,  0.76 ,  0.04 , ...,  3.26 ,  0.65 ,  9.8  ],\n",
              "       ...,\n",
              "       [ 6.3  ,  0.51 ,  0.13 , ...,  3.42 ,  0.75 , 11.   ],\n",
              "       [ 5.9  ,  0.645,  0.12 , ...,  3.57 ,  0.71 , 10.2  ],\n",
              "       [ 6.   ,  0.31 ,  0.47 , ...,  3.39 ,  0.66 , 11.   ]])"
            ]
          },
          "metadata": {},
          "execution_count": 10
        }
      ]
    },
    {
      "cell_type": "code",
      "source": [
        "y_dados = dados.iloc[:,11].values\n",
        "y_dados"
      ],
      "metadata": {
        "colab": {
          "base_uri": "https://localhost:8080/"
        },
        "id": "ApdQ9x3hCuDe",
        "outputId": "f8dc1b6d-9511-45ff-8b41-4d2df714a0ae"
      },
      "execution_count": null,
      "outputs": [
        {
          "output_type": "execute_result",
          "data": {
            "text/plain": [
              "array([5, 5, 5, ..., 6, 5, 6])"
            ]
          },
          "metadata": {},
          "execution_count": 11
        }
      ]
    },
    {
      "cell_type": "markdown",
      "source": [
        "ESCALONANDO OS VALORES"
      ],
      "metadata": {
        "id": "me3lKGYfiEnG"
      }
    },
    {
      "cell_type": "code",
      "source": [
        "from sklearn.preprocessing import StandardScaler\n",
        "\n",
        "\n",
        "scaler_dados = StandardScaler()\n",
        "X_dados = scaler_dados.fit_transform(X_dados)"
      ],
      "metadata": {
        "id": "qn1T0VDJ-qvI"
      },
      "execution_count": null,
      "outputs": []
    },
    {
      "cell_type": "code",
      "source": [
        "from sklearn.model_selection import train_test_split"
      ],
      "metadata": {
        "id": "iv-Qi7mB2IkN"
      },
      "execution_count": null,
      "outputs": []
    },
    {
      "cell_type": "markdown",
      "source": [
        "CRIANDO AMBIENTE DE TREINAMENTO, SEPARANDO ENTRE TREINO E TESTE."
      ],
      "metadata": {
        "id": "6qnLHpyjiK-f"
      }
    },
    {
      "cell_type": "code",
      "source": [
        "X_dados_treinamento, X_dados_teste, Y_dados_treinamento, Y_dados_teste = train_test_split(X_dados, y_dados, test_size = 0.25, random_state = 0)"
      ],
      "metadata": {
        "id": "YonI2K3L2dRC"
      },
      "execution_count": null,
      "outputs": []
    },
    {
      "cell_type": "code",
      "source": [
        "X_dados_treinamento.shape"
      ],
      "metadata": {
        "colab": {
          "base_uri": "https://localhost:8080/"
        },
        "id": "plQsVoAP3WCK",
        "outputId": "932c5ae0-20ac-4482-d0ea-c1d60711d836"
      },
      "execution_count": null,
      "outputs": [
        {
          "output_type": "execute_result",
          "data": {
            "text/plain": [
              "(1199, 11)"
            ]
          },
          "metadata": {},
          "execution_count": 15
        }
      ]
    },
    {
      "cell_type": "code",
      "source": [
        "Y_dados_treinamento"
      ],
      "metadata": {
        "colab": {
          "base_uri": "https://localhost:8080/"
        },
        "id": "8y3l17ZL3p3n",
        "outputId": "67a79c5b-cf0d-4612-baa0-59e6911a631f"
      },
      "execution_count": null,
      "outputs": [
        {
          "output_type": "execute_result",
          "data": {
            "text/plain": [
              "array([5, 5, 5, ..., 6, 6, 5])"
            ]
          },
          "metadata": {},
          "execution_count": 16
        }
      ]
    },
    {
      "cell_type": "markdown",
      "source": [
        "CRIANDO ARQUIVO PKL COM OS DADOS JA SEPARADOS ENTRE TESTE E TREINAMENTO"
      ],
      "metadata": {
        "id": "0gpdgXnqiWdi"
      }
    },
    {
      "cell_type": "code",
      "source": [
        "with open('/content/winequality-red.pkl',mode='wb') as f:\n",
        "  pickle.dump([X_dados_treinamento,Y_dados_treinamento, X_dados_teste, Y_dados_teste],f)"
      ],
      "metadata": {
        "id": "uZ4iDVmhDDB8"
      },
      "execution_count": null,
      "outputs": []
    },
    {
      "cell_type": "markdown",
      "source": [
        "CRIANDO IA ULTILIZANDO O MODELO DE SVM "
      ],
      "metadata": {
        "id": "_Anc4_IuimN-"
      }
    },
    {
      "cell_type": "code",
      "source": [
        "svm_vinho = SVC(kernel='linear',random_state=1, C = 1.0)\n",
        "svm_vinho.fit(X_dados_treinamento, Y_dados_treinamento)"
      ],
      "metadata": {
        "colab": {
          "base_uri": "https://localhost:8080/"
        },
        "id": "GBFDBuwyZuoe",
        "outputId": "f091941a-bcdf-43c1-bec1-2c9ac878cc15"
      },
      "execution_count": null,
      "outputs": [
        {
          "output_type": "execute_result",
          "data": {
            "text/plain": [
              "SVC(kernel='linear', random_state=1)"
            ]
          },
          "metadata": {},
          "execution_count": 25
        }
      ]
    },
    {
      "cell_type": "markdown",
      "source": [
        "CRIANDO O PREVISOR TESTE DE SVM:"
      ],
      "metadata": {
        "id": "5drng0SRi3q2"
      }
    },
    {
      "cell_type": "code",
      "source": [
        "previsores = svm_vinho.predict(X_dados_teste)\n",
        "previsores"
      ],
      "metadata": {
        "colab": {
          "base_uri": "https://localhost:8080/"
        },
        "id": "QbtjoyYdagNC",
        "outputId": "cb3c4690-fe5b-4fec-83bb-f1209dc92c93"
      },
      "execution_count": null,
      "outputs": [
        {
          "output_type": "execute_result",
          "data": {
            "text/plain": [
              "array([6, 5, 7, 5, 6, 5, 5, 6, 5, 5, 5, 5, 6, 5, 5, 6, 7, 6, 6, 5, 7, 5,\n",
              "       6, 5, 5, 5, 5, 6, 5, 6, 6, 6, 6, 5, 6, 6, 5, 5, 7, 6, 5, 6, 7, 7,\n",
              "       6, 5, 5, 6, 5, 6, 5, 5, 6, 6, 6, 5, 5, 5, 7, 5, 5, 6, 6, 6, 5, 6,\n",
              "       5, 6, 6, 6, 5, 5, 5, 5, 5, 6, 5, 5, 5, 6, 6, 5, 6, 6, 5, 5, 6, 5,\n",
              "       5, 5, 5, 5, 6, 5, 6, 5, 6, 5, 5, 6, 7, 6, 6, 6, 6, 5, 6, 5, 6, 5,\n",
              "       6, 5, 6, 5, 6, 6, 6, 7, 6, 6, 5, 6, 6, 5, 6, 7, 5, 5, 6, 7, 5, 5,\n",
              "       6, 6, 7, 5, 6, 5, 6, 5, 6, 5, 5, 5, 6, 6, 6, 7, 6, 5, 6, 6, 5, 6,\n",
              "       6, 6, 5, 5, 6, 6, 6, 6, 7, 5, 6, 5, 6, 6, 5, 6, 6, 5, 5, 7, 6, 6,\n",
              "       7, 7, 6, 5, 5, 7, 5, 6, 7, 5, 5, 6, 5, 6, 6, 6, 5, 5, 5, 5, 5, 5,\n",
              "       5, 5, 5, 6, 5, 5, 5, 5, 5, 6, 6, 5, 6, 6, 6, 6, 5, 5, 6, 6, 6, 5,\n",
              "       5, 6, 6, 6, 5, 6, 6, 6, 5, 5, 5, 6, 5, 6, 6, 6, 6, 7, 7, 6, 5, 5,\n",
              "       5, 5, 6, 5, 5, 5, 5, 6, 5, 5, 5, 5, 5, 5, 5, 5, 5, 5, 5, 7, 5, 5,\n",
              "       5, 5, 5, 5, 6, 6, 5, 6, 5, 6, 6, 6, 6, 5, 7, 6, 5, 7, 6, 6, 6, 5,\n",
              "       5, 5, 6, 6, 6, 6, 6, 5, 5, 6, 5, 5, 5, 5, 6, 5, 5, 5, 6, 6, 5, 5,\n",
              "       5, 5, 6, 6, 5, 5, 5, 7, 6, 6, 5, 6, 5, 6, 6, 6, 6, 5, 7, 5, 5, 5,\n",
              "       7, 5, 5, 6, 5, 6, 6, 5, 5, 5, 5, 5, 5, 6, 6, 5, 5, 5, 5, 7, 6, 6,\n",
              "       5, 6, 7, 5, 6, 6, 6, 6, 5, 6, 5, 6, 6, 5, 5, 7, 5, 5, 6, 6, 5, 6,\n",
              "       5, 5, 6, 6, 6, 6, 6, 6, 5, 5, 5, 6, 6, 5, 6, 5, 7, 5, 5, 6, 5, 6,\n",
              "       5, 6, 6, 5])"
            ]
          },
          "metadata": {},
          "execution_count": 26
        }
      ]
    },
    {
      "cell_type": "markdown",
      "source": [
        "CRIANDO IA ULTILIZANDO NAIVE BAYES:"
      ],
      "metadata": {
        "id": "XP4gcKZPi-6-"
      }
    },
    {
      "cell_type": "code",
      "source": [
        "naive_dados = GaussianNB()"
      ],
      "metadata": {
        "id": "sUPPmE1ILYq4"
      },
      "execution_count": null,
      "outputs": []
    },
    {
      "cell_type": "markdown",
      "source": [
        "TREINAMENTO:"
      ],
      "metadata": {
        "id": "QZJ9I9CojOud"
      }
    },
    {
      "cell_type": "code",
      "source": [
        "naive_dados.fit(X_dados_treinamento,Y_dados_treinamento)"
      ],
      "metadata": {
        "colab": {
          "base_uri": "https://localhost:8080/"
        },
        "id": "P6e5APmDLxMB",
        "outputId": "c4edfbe0-e770-4e12-9e8f-e78254e1a1d1"
      },
      "execution_count": null,
      "outputs": [
        {
          "output_type": "execute_result",
          "data": {
            "text/plain": [
              "GaussianNB()"
            ]
          },
          "metadata": {},
          "execution_count": 19
        }
      ]
    },
    {
      "cell_type": "markdown",
      "source": [
        "CRIANDO PREVISOR TESTE:"
      ],
      "metadata": {
        "id": "o0N72v3zjSfC"
      }
    },
    {
      "cell_type": "code",
      "source": [
        "previsor = naive_dados.predict(X_dados_teste)\n",
        "previsor"
      ],
      "metadata": {
        "colab": {
          "base_uri": "https://localhost:8080/"
        },
        "id": "jYtqafchL8bu",
        "outputId": "cfc821dc-93f1-48c1-af80-7581e153e767"
      },
      "execution_count": null,
      "outputs": [
        {
          "output_type": "execute_result",
          "data": {
            "text/plain": [
              "array([6, 5, 7, 5, 7, 5, 5, 6, 5, 5, 5, 5, 6, 4, 6, 7, 7, 6, 6, 5, 6, 5,\n",
              "       6, 6, 5, 5, 5, 7, 5, 6, 7, 6, 5, 5, 6, 7, 5, 6, 7, 6, 5, 6, 8, 7,\n",
              "       6, 5, 5, 6, 6, 6, 5, 6, 6, 7, 6, 5, 5, 5, 7, 5, 5, 6, 6, 6, 5, 6,\n",
              "       5, 7, 6, 6, 5, 4, 5, 5, 5, 6, 5, 5, 5, 7, 6, 5, 6, 6, 5, 5, 6, 5,\n",
              "       5, 5, 5, 5, 6, 5, 7, 5, 7, 6, 5, 6, 7, 7, 6, 7, 6, 5, 6, 5, 6, 5,\n",
              "       6, 5, 7, 5, 6, 5, 5, 7, 6, 6, 5, 6, 4, 5, 6, 7, 5, 5, 7, 7, 5, 5,\n",
              "       6, 6, 7, 5, 7, 5, 7, 5, 6, 5, 5, 5, 5, 6, 7, 7, 7, 5, 6, 7, 5, 5,\n",
              "       5, 5, 6, 5, 6, 6, 6, 6, 7, 5, 7, 5, 6, 7, 5, 6, 6, 5, 5, 7, 6, 7,\n",
              "       6, 8, 6, 5, 5, 8, 5, 7, 8, 5, 5, 6, 5, 6, 6, 6, 5, 5, 5, 5, 5, 5,\n",
              "       5, 5, 5, 6, 5, 5, 5, 5, 5, 7, 7, 5, 6, 5, 4, 7, 5, 5, 6, 7, 5, 5,\n",
              "       5, 6, 7, 6, 5, 6, 7, 6, 5, 5, 5, 6, 3, 6, 7, 6, 7, 7, 8, 7, 5, 4,\n",
              "       5, 5, 6, 5, 5, 5, 4, 7, 5, 5, 5, 5, 6, 5, 5, 5, 5, 6, 5, 8, 5, 6,\n",
              "       5, 5, 5, 5, 5, 6, 6, 6, 5, 6, 7, 6, 7, 5, 7, 7, 5, 7, 6, 7, 6, 5,\n",
              "       6, 5, 7, 6, 5, 4, 6, 5, 5, 6, 5, 6, 5, 5, 6, 3, 6, 5, 7, 6, 3, 5,\n",
              "       5, 6, 5, 6, 5, 6, 5, 7, 6, 7, 5, 7, 6, 6, 7, 6, 5, 4, 7, 5, 5, 5,\n",
              "       7, 5, 5, 6, 5, 6, 6, 5, 5, 5, 5, 5, 5, 6, 6, 6, 5, 4, 5, 7, 6, 7,\n",
              "       5, 6, 7, 3, 6, 6, 6, 7, 5, 7, 5, 6, 6, 5, 6, 7, 5, 5, 6, 6, 5, 6,\n",
              "       5, 5, 7, 7, 6, 6, 6, 6, 5, 5, 6, 6, 7, 6, 6, 6, 7, 5, 5, 7, 4, 6,\n",
              "       6, 5, 7, 5])"
            ]
          },
          "metadata": {},
          "execution_count": 20
        }
      ]
    },
    {
      "cell_type": "markdown",
      "source": [
        "A IA CRIADA ULTIZANDO O MODELO DE NAIVE BAYES ALCANÇOU UMA PRECISÃO DE 54,75%"
      ],
      "metadata": {
        "id": "l5_eH-YzjWj2"
      }
    },
    {
      "cell_type": "code",
      "source": [
        "from sklearn.metrics import accuracy_score\n",
        "accuracy_score(Y_dados_teste, previsor)"
      ],
      "metadata": {
        "colab": {
          "base_uri": "https://localhost:8080/"
        },
        "id": "QuXbfalPOGXf",
        "outputId": "1f897e00-81e1-4d50-8cb4-879e28755177"
      },
      "execution_count": null,
      "outputs": [
        {
          "output_type": "execute_result",
          "data": {
            "text/plain": [
              "0.5475"
            ]
          },
          "metadata": {},
          "execution_count": 21
        }
      ]
    },
    {
      "cell_type": "markdown",
      "source": [
        "A IA CRIADA ULTIZANDO O MODELO DE SVM ALCANÇOU UMA PRECISÃO DE 61,25%"
      ],
      "metadata": {
        "id": "6MGuEEUhkMP5"
      }
    },
    {
      "cell_type": "code",
      "source": [
        "accuracy_score(Y_dados_teste,previsores)"
      ],
      "metadata": {
        "colab": {
          "base_uri": "https://localhost:8080/"
        },
        "id": "39owSyCoap4r",
        "outputId": "d55ca3e8-dc1e-40a6-858f-9e4358892dea"
      },
      "execution_count": null,
      "outputs": [
        {
          "output_type": "execute_result",
          "data": {
            "text/plain": [
              "0.6125"
            ]
          },
          "metadata": {},
          "execution_count": 27
        }
      ]
    },
    {
      "cell_type": "code",
      "source": [
        "from yellowbrick.classifier import ConfusionMatrix"
      ],
      "metadata": {
        "id": "jJRfrIPbIjor"
      },
      "execution_count": null,
      "outputs": []
    },
    {
      "cell_type": "code",
      "source": [
        "cm = ConfusionMatrix(naive_dados)\n",
        "cm.fit(X_dados_teste, Y_dados_teste)\n",
        "cm.score(X_dados_teste, Y_dados_teste)"
      ],
      "metadata": {
        "colab": {
          "base_uri": "https://localhost:8080/",
          "height": 361
        },
        "id": "6_0lCfCRIt0N",
        "outputId": "6f5a8721-adad-4a73-8e91-171cf6753957"
      },
      "execution_count": null,
      "outputs": [
        {
          "output_type": "execute_result",
          "data": {
            "text/plain": [
              "0.5475"
            ]
          },
          "metadata": {},
          "execution_count": 23
        },
        {
          "output_type": "display_data",
          "data": {
            "text/plain": [
              "<Figure size 576x396 with 1 Axes>"
            ],
            "image/png": "[encoded data removed]"
          },
          "metadata": {}
        }
      ]
    },
    {
      "cell_type": "markdown",
      "source": [
        "TESTANDO MODELO ATRAVES DOS INPUTS, INSERINDO DADOS DO PROPRIO DATASET E OBTENDO UMA RESPOSTA CORRETA!"
      ],
      "metadata": {
        "id": "e7W6t1FmkYBw"
      }
    },
    {
      "cell_type": "code",
      "source": [
        "FA = input('insira sua acidez fixa: ')\n",
        "AV = input('insira a acidez volatil: ')\n",
        "AC = input('insira a acidez citrica: ')\n",
        "RS = input('insira o açucar residual: ')\n",
        "CD = input('insira o valor do cloridrico: ')\n",
        "FSD = input('insira o valor de dioxido de sulfurico livre: ')\n",
        "TSD = input('insira o valor de dioxido de sulfurico total: ')\n",
        "DT = input('insira o valor da densidade: ')\n",
        "pH = input('insira o valor do pH: ')\n",
        "SPT = input('insira o valor do sulfato: ')\n",
        "ALC = input('insira o valor do alcool: ')\n",
        "\n",
        "previsor = naive_dados.predict([[FA,AV,AC,RS,CD,FSD,TSD,DT,pH,SPT,ALC]])\n",
        "previsor"
      ],
      "metadata": {
        "id": "0DDS-6wI-ZE1",
        "colab": {
          "base_uri": "https://localhost:8080/"
        },
        "outputId": "5b5fa35d-1ef7-420b-8dcd-1458faca9bf5"
      },
      "execution_count": null,
      "outputs": [
        {
          "name": "stdout",
          "output_type": "stream",
          "text": [
            "insira sua acidez fixa: 7.4\n",
            "insira a acidez volatil: 0.700\n",
            "insira a acidez citrica: 0.00\n",
            "insira o açucar residual: 1.9\n",
            "insira o valor do cloridrico: 0.076\n",
            "insira o valor de dioxido de sulfurico livre: 11.0\n",
            "insira o valor de dioxido de sulfurico total: 34.0\n",
            "insira o valor da densidade: 0.99780\n",
            "insira o valor do pH: 3.51\n",
            "insira o valor do sulfato: 0.56\n",
            "insira o valor do alcool: 9.4\n"
          ]
        },
        {
          "output_type": "stream",
          "name": "stderr",
          "text": [
            "/usr/local/lib/python3.7/dist-packages/sklearn/base.py:566: FutureWarning:\n",
            "\n",
            "Arrays of bytes/strings is being converted to decimal numbers if dtype='numeric'. This behavior is deprecated in 0.24 and will be removed in 1.1 (renaming of 0.26). Please convert your data to numeric values explicitly instead.\n",
            "\n"
          ]
        },
        {
          "output_type": "execute_result",
          "data": {
            "text/plain": [
              "array([5])"
            ]
          },
          "metadata": {},
          "execution_count": 472
        }
      ]
    }
  ]
}