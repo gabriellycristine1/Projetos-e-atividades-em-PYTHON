{
  "nbformat": 4,
  "nbformat_minor": 0,
  "metadata": {
    "colab": {
      "name": "TRATAMENTO_DE_DADOS.ipynb",
      "provenance": [],
      "collapsed_sections": [],
      "authorship_tag": "ABX9TyPBApXP1+vFvhIeEvG9O8sj",
      "include_colab_link": true
    },
    "kernelspec": {
      "name": "python3",
      "display_name": "Python 3"
    },
    "language_info": {
      "name": "python"
    }
  },
  "cells": [
    {
      "cell_type": "markdown",
      "metadata": {
        "id": "view-in-github",
        "colab_type": "text"
      },
      "source": [
        "<a href=\"https://colab.research.google.com/github/gabriellycristine1/Projetos-e-atividades-em-PYTHON/blob/main/TRATAMENTO_DE_DADOS.ipynb\" target=\"_parent\"><img src=\"https://colab.research.google.com/assets/colab-badge.svg\" alt=\"Open In Colab\"/></a>"
      ]
    },
    {
      "cell_type": "code",
      "execution_count": null,
      "metadata": {
        "id": "Mwmq-l2p9_lu"
      },
      "outputs": [],
      "source": [
        "import pandas as pd\n",
        "import numpy as np\n",
        "import seaborn as sns\n",
        "import matplotlib.pyplot as plt\n",
        "\n",
        "\n",
        "dados = pd.read_csv(r'C:\\Users\\aluno16\\Documents\\Gaby\\aula01_modulo3\\veiculos2.csv',sep=';')\n",
        "\n",
        "print(dados)\n",
        "\n",
        "print(dados.isnull().sum())\n",
        "\n",
        "#------------------------------------------calculo da media antes de tratados-----------------------------------\n",
        "\n",
        "print(dados['price'].mean())\n",
        "\n",
        "print(dados.loc[pd.isnull(dados['year'])])\n",
        "\n",
        "#-------------------------------Tirando todos os valores nulos e substituindo por valores aceitaveis----------------------------\n",
        "dados['year'].fillna(dados['year'].mean(), inplace = True)\n",
        "dados['manufacturer'].fillna('Nâo informado', inplace = True)\n",
        "dados['model'].fillna('Nâo informado', inplace = True)\n",
        "dados['condition'].fillna('Nâo informado', inplace = True)\n",
        "dados['cylinders'].fillna('Nâo informado', inplace = True)\n",
        "dados['fuel'].fillna('Nâo informado', inplace = True)\n",
        "dados['odometer'].fillna(dados['odometer'].mean(), inplace = True)\n",
        "dados['transmission'].fillna('Nâo informado', inplace = True)\n",
        "dados['VIN'].fillna('Nâo informado', inplace = True)\n",
        "dados['drive'].fillna('Nâo informado', inplace = True)\n",
        "dados['size'].fillna('Nâo informado', inplace = True)\n",
        "dados['type'].fillna('Nâo informado', inplace = True)\n",
        "dados['paint_color'].fillna('Nâo informado', inplace = True)\n",
        "dados['image_url'].fillna('Nâo informado', inplace = True)\n",
        "dados['description'].fillna('Nâo informado', inplace = True)\n",
        "dados['county'].fillna('Nâo informado', inplace = True)\n",
        "dados['lat'].fillna(0, inplace = True)\n",
        "dados['long'].fillna(0, inplace = True)\n",
        "dados['posting_date'].fillna('Nâo informado', inplace = True)\n",
        "dados['title_status'].fillna('Nâo informado', inplace = True)\n",
        "\n",
        "\n",
        "print(dados.isnull().sum())\n",
        "\n",
        " #------------------Verificando todos os tipos de modelos de carros e depois gerar um arquivo.csv apenas com os modelos, esse arquivo deve conter index começando de 1 e indo até ----------------------\n",
        " \n",
        "\n",
        "modelos = (dados['model'])\n",
        "modelos.drop_duplicates(inplace=True)\n",
        "modelos.index = range(modelos.shape[0])\n",
        "modelos.to_csv(r'C:\\Users\\aluno16\\Documents\\Gaby\\aula01_modulo3\\modelo.csv',sep=';',index=True)\n",
        "\n",
        "#--------------------------Organizar os valores dos preço em ordem crescente e depois gerar uma planilha-------------------------------\n",
        "print(dados)-\n",
        "organizando_precos = dados[['price']]\n",
        "print(organizando_precos)\n",
        "organizando_precos.sort_values('price',inplace=True, ascending=True)\n",
        "print(organizando_precos)\n",
        "organizando_precos.to_csv(r'C:\\Users\\aluno16\\Documents\\Gaby\\aula01_modulo3\\organizando_preco.csv',sep=';',index=True)\n",
        "\n",
        "#---------------------------------Mostre a descrição de cada item---------------------------------------\n",
        "\n",
        "print(dados.info())\n",
        "\n",
        "\n",
        "\n",
        "#-----------Crie um filtro que seleciona os carros com anos entre 2015  e 2017, que são honda ou bmw ou ford, e depois gere um arquivo com todos os dados dos carros selecionados\n",
        "\n",
        "selecao = (((dados['year'] > 2014)) & ((dados['year'] < 2018))) & ((dados['manufacturer'] == 'bmw') | (dados['manufacturer']=='honda')) | (dados['manufacturer'] == 'ford')\n",
        "dados=dados[selecao]\n",
        "dados.to_csv(r'C:\\Users\\aluno16\\Documents\\Gaby\\aula01_modulo3\\veiculos27.csv',sep=';',index=True)\n",
        "print(dados.shape[0])\n",
        "\n",
        "#----------calculo da media depois de tratados-------------------\n",
        "print(dados['price'].mean())\n",
        "\n",
        "#---------econtre o carro com menor preço------------------------\n",
        "print('menor preço',dados['price'].min())\n",
        "\n"
      ]
    }
  ]
}