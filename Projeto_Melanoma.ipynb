{
  "nbformat": 4,
  "nbformat_minor": 0,
  "metadata": {
    "colab": {
      "name": "Untitled0.ipynb",
      "provenance": [],
      "collapsed_sections": [],
      "machine_shape": "hm",
      "authorship_tag": "ABX9TyNMS/V+P/wtyd83r17Oc+vn",
      "include_colab_link": true
    },
    "kernelspec": {
      "name": "python3",
      "display_name": "Python 3"
    },
    "language_info": {
      "name": "python"
    },
    "gpuClass": "standard"
  },
  "cells": [
    {
      "cell_type": "markdown",
      "metadata": {
        "id": "view-in-github",
        "colab_type": "text"
      },
      "source": [
        "<a href=\"https://colab.research.google.com/github/gabriellycristine1/Projetos_e_Atividades_Python/blob/main/Projeto_Melanoma.ipynb\" target=\"_parent\"><img src=\"https://colab.research.google.com/assets/colab-badge.svg\" alt=\"Open In Colab\"/></a>"
      ]
    },
    {
      "cell_type": "code",
      "execution_count": null,
      "metadata": {
        "colab": {
          "base_uri": "https://localhost:8080/"
        },
        "id": "Wh5e9ovqi0pe",
        "outputId": "2a38a934-787d-42cc-a6f8-506decdeb124"
      },
      "outputs": [
        {
          "output_type": "stream",
          "name": "stdout",
          "text": [
            "Looking in indexes: https://pypi.org/simple, https://us-python.pkg.dev/colab-wheels/public/simple/\n",
            "Collecting efficientnet\n",
            "  Downloading efficientnet-1.1.1-py3-none-any.whl (18 kB)\n",
            "Collecting keras-applications<=1.0.8,>=1.0.7\n",
            "  Downloading Keras_Applications-1.0.8-py3-none-any.whl (50 kB)\n",
            "\u001b[K     |████████████████████████████████| 50 kB 2.8 MB/s \n",
            "\u001b[?25hRequirement already satisfied: scikit-image in /usr/local/lib/python3.7/dist-packages (from efficientnet) (0.18.3)\n",
            "Requirement already satisfied: numpy>=1.9.1 in /usr/local/lib/python3.7/dist-packages (from keras-applications<=1.0.8,>=1.0.7->efficientnet) (1.21.6)\n",
            "Requirement already satisfied: h5py in /usr/local/lib/python3.7/dist-packages (from keras-applications<=1.0.8,>=1.0.7->efficientnet) (3.1.0)\n",
            "Requirement already satisfied: cached-property in /usr/local/lib/python3.7/dist-packages (from h5py->keras-applications<=1.0.8,>=1.0.7->efficientnet) (1.5.2)\n",
            "Requirement already satisfied: scipy>=1.0.1 in /usr/local/lib/python3.7/dist-packages (from scikit-image->efficientnet) (1.7.3)\n",
            "Requirement already satisfied: tifffile>=2019.7.26 in /usr/local/lib/python3.7/dist-packages (from scikit-image->efficientnet) (2021.11.2)\n",
            "Requirement already satisfied: networkx>=2.0 in /usr/local/lib/python3.7/dist-packages (from scikit-image->efficientnet) (2.6.3)\n",
            "Requirement already satisfied: pillow!=7.1.0,!=7.1.1,>=4.3.0 in /usr/local/lib/python3.7/dist-packages (from scikit-image->efficientnet) (7.1.2)\n",
            "Requirement already satisfied: PyWavelets>=1.1.1 in /usr/local/lib/python3.7/dist-packages (from scikit-image->efficientnet) (1.3.0)\n",
            "Requirement already satisfied: matplotlib!=3.0.0,>=2.0.0 in /usr/local/lib/python3.7/dist-packages (from scikit-image->efficientnet) (3.2.2)\n",
            "Requirement already satisfied: imageio>=2.3.0 in /usr/local/lib/python3.7/dist-packages (from scikit-image->efficientnet) (2.4.1)\n",
            "Requirement already satisfied: python-dateutil>=2.1 in /usr/local/lib/python3.7/dist-packages (from matplotlib!=3.0.0,>=2.0.0->scikit-image->efficientnet) (2.8.2)\n",
            "Requirement already satisfied: kiwisolver>=1.0.1 in /usr/local/lib/python3.7/dist-packages (from matplotlib!=3.0.0,>=2.0.0->scikit-image->efficientnet) (1.4.3)\n",
            "Requirement already satisfied: cycler>=0.10 in /usr/local/lib/python3.7/dist-packages (from matplotlib!=3.0.0,>=2.0.0->scikit-image->efficientnet) (0.11.0)\n",
            "Requirement already satisfied: pyparsing!=2.0.4,!=2.1.2,!=2.1.6,>=2.0.1 in /usr/local/lib/python3.7/dist-packages (from matplotlib!=3.0.0,>=2.0.0->scikit-image->efficientnet) (3.0.9)\n",
            "Requirement already satisfied: typing-extensions in /usr/local/lib/python3.7/dist-packages (from kiwisolver>=1.0.1->matplotlib!=3.0.0,>=2.0.0->scikit-image->efficientnet) (4.1.1)\n",
            "Requirement already satisfied: six>=1.5 in /usr/local/lib/python3.7/dist-packages (from python-dateutil>=2.1->matplotlib!=3.0.0,>=2.0.0->scikit-image->efficientnet) (1.15.0)\n",
            "Installing collected packages: keras-applications, efficientnet\n",
            "Successfully installed efficientnet-1.1.1 keras-applications-1.0.8\n",
            "Looking in indexes: https://pypi.org/simple, https://us-python.pkg.dev/colab-wheels/public/simple/\n",
            "Collecting tensorflow-addons==0.8.3\n",
            "  Downloading tensorflow_addons-0.8.3-cp37-cp37m-manylinux2010_x86_64.whl (1.0 MB)\n",
            "\u001b[K     |████████████████████████████████| 1.0 MB 4.3 MB/s \n",
            "\u001b[?25hRequirement already satisfied: typeguard in /usr/local/lib/python3.7/dist-packages (from tensorflow-addons==0.8.3) (2.7.1)\n",
            "Installing collected packages: tensorflow-addons\n",
            "Successfully installed tensorflow-addons-0.8.3\n",
            "Looking in indexes: https://pypi.org/simple, https://us-python.pkg.dev/colab-wheels/public/simple/\n",
            "\u001b[31mERROR: Could not find a version that satisfies the requirement tensorflow==2.2.0-rc3a (from versions: 1.13.1, 1.13.2, 1.14.0, 1.15.0, 1.15.2, 1.15.3, 1.15.4, 1.15.5, 2.0.0, 2.0.1, 2.0.2, 2.0.3, 2.0.4, 2.1.0, 2.1.1, 2.1.2, 2.1.3, 2.1.4, 2.2.0, 2.2.1, 2.2.2, 2.2.3, 2.3.0, 2.3.1, 2.3.2, 2.3.3, 2.3.4, 2.4.0, 2.4.1, 2.4.2, 2.4.3, 2.4.4, 2.5.0, 2.5.1, 2.5.2, 2.5.3, 2.6.0rc0, 2.6.0rc1, 2.6.0rc2, 2.6.0, 2.6.0+zzzcolab20220506153740, 2.6.1, 2.6.2, 2.6.3, 2.6.4, 2.6.4+zzzcolab20220516125453, 2.6.5, 2.6.5+zzzcolab20220523104206, 2.7.0rc0, 2.7.0rc1, 2.7.0, 2.7.0+zzzcolab20220506150900, 2.7.1, 2.7.2, 2.7.2+zzzcolab20220516114640, 2.7.3, 2.7.3+zzzcolab20220523111007, 2.8.0rc0, 2.8.0rc1, 2.8.0, 2.8.0+zzzcolab20220506162203, 2.8.1, 2.8.1+zzzcolab20220516111314, 2.8.1+zzzcolab20220518083849, 2.8.2, 2.8.2+zzzcolab20220523105045, 2.8.2+zzzcolab20220527125636, 2.8.2+zzzcolab20220629235552, 2.8.2+zzzcolab20220714152931, 2.8.2+zzzcolab20220714162028, 2.8.2+zzzcolab20220719082949, 2.9.0rc0, 2.9.0rc1, 2.9.0rc2, 2.9.0, 2.9.1)\u001b[0m\n",
            "\u001b[31mERROR: No matching distribution found for tensorflow==2.2.0-rc3a\u001b[0m\n"
          ]
        }
      ],
      "source": [
        "!pip install -U efficientnet\n",
        "import sys\n",
        "import os\n",
        "from os.path import join\n",
        "import numpy as np # linear algebra\n",
        "import matplotlib.pyplot as plt\n",
        "import efficientnet.keras as efn \n",
        "import tensorflow as tf\n",
        "!pip install --user tensorflow-addons==0.8.3\n",
        "!pip install --user tensorflow==2.2.0-rc3a\n",
        "from keras.preprocessing.image import load_img, img_to_array\n",
        "from keras import models, regularizers, layers, optimizers, losses, metrics\n",
        "from keras.models import Sequential\n",
        "from keras.layers import Dense , Dropout , Flatten , MaxPooling2D , BatchNormalization\n",
        "from keras.utils import np_utils #, to_categorical\n",
        "from keras.preprocessing.image import ImageDataGenerator\n",
        "from keras.preprocessing import image"
      ]
    },
    {
      "cell_type": "code",
      "source": [
        "import zipfile"
      ],
      "metadata": {
        "id": "tlZ6zAbij31o"
      },
      "execution_count": null,
      "outputs": []
    },
    {
      "cell_type": "code",
      "source": [
        "from google.colab.patches import cv2_imshow\n",
        "from google.colab import drive"
      ],
      "metadata": {
        "id": "OccWJL7Ijf3T"
      },
      "execution_count": null,
      "outputs": []
    },
    {
      "cell_type": "code",
      "source": [
        "drive.mount('/content/drive')"
      ],
      "metadata": {
        "colab": {
          "base_uri": "https://localhost:8080/"
        },
        "id": "HHYGhJ0Qjbwa",
        "outputId": "cf60c4f7-0722-404b-c22c-2f766b38937f"
      },
      "execution_count": null,
      "outputs": [
        {
          "output_type": "stream",
          "name": "stdout",
          "text": [
            "Mounted at /content/drive\n"
          ]
        }
      ]
    },
    {
      "cell_type": "code",
      "source": [
        "from google.colab import drive\n",
        "drive.mount('/content/drive')"
      ],
      "metadata": {
        "colab": {
          "base_uri": "https://localhost:8080/"
        },
        "id": "dcIwbh8mjrT5",
        "outputId": "35b0e55c-a1d3-4371-c4df-8e2d0bf9f0a2"
      },
      "execution_count": null,
      "outputs": [
        {
          "output_type": "stream",
          "name": "stdout",
          "text": [
            "Drive already mounted at /content/drive; to attempt to forcibly remount, call drive.mount(\"/content/drive\", force_remount=True).\n"
          ]
        }
      ]
    },
    {
      "cell_type": "code",
      "source": [
        "path = '/content/drive/MyDrive/PROJETO_melanoma.zip'\n",
        "zip_object = zipfile.ZipFile(file = path, mode='r')\n",
        "zip_object.extractall('./')\n",
        "zip_object.close()"
      ],
      "metadata": {
        "id": "NPVUU_v3ju3U"
      },
      "execution_count": null,
      "outputs": []
    },
    {
      "cell_type": "code",
      "source": [
        "PATH = \"/content/DermMel\""
      ],
      "metadata": {
        "id": "Lj4yOmZOkOps"
      },
      "execution_count": null,
      "outputs": []
    },
    {
      "cell_type": "code",
      "source": [
        "print('Total Directories')\n",
        "display(os.listdir(PATH))"
      ],
      "metadata": {
        "colab": {
          "base_uri": "https://localhost:8080/",
          "height": 52
        },
        "id": "AxcPzoUgkcgF",
        "outputId": "aa1ccad4-703e-4396-b1b0-cfd183e20f66"
      },
      "execution_count": null,
      "outputs": [
        {
          "output_type": "stream",
          "name": "stdout",
          "text": [
            "Total Directories\n"
          ]
        },
        {
          "output_type": "display_data",
          "data": {
            "text/plain": [
              "['train_sep', 'valid', 'test']"
            ]
          },
          "metadata": {}
        }
      ]
    },
    {
      "cell_type": "code",
      "source": [
        "PATHtrain = \"/content/DermMel/train_sep\"\n",
        "print(len(os.listdir(PATHtrain)), \" TRAIN Directories of photos\")\n",
        "drs = os.listdir(PATHtrain)\n",
        "im_len = 0\n",
        "for label in sorted(drs):\n",
        "    print(label,len(os.listdir('/content/DermMel/train_sep/Melanoma')))\n",
        "    im_len = im_len + len(os.listdir('/content/DermMel/train_sep/NotMelanoma'))\n",
        "\n",
        "print(\"Total TRAIN photos \", im_len)\n",
        "print(\"_\"*50)\n",
        "\n",
        "PATHvalid = '/content/DermMel/valid'\n",
        "print(len(os.listdir(PATHvalid)), \" VALID Directories of photos\")\n",
        "drs = os.listdir(PATHvalid)\n",
        "im_len = 0\n",
        "for label in sorted(drs):\n",
        "    print(label,len(os.listdir('/content/DermMel/valid/Melanoma')))\n",
        "    im_len = im_len + len(os.listdir('/content/DermMel/valid/NotMelanoma'))\n",
        "\n",
        "print(\"Total Validation photos \", im_len)\n",
        "print(\"_\"*50)\n",
        "\n",
        "PATHtest ='/content/DermMel/test'\n",
        "print(len(os.listdir(PATHtest)), \" TEST Directories of photos\")\n",
        "drs = os.listdir(PATHtest)\n",
        "im_len = 0\n",
        "\n",
        "for label in sorted(drs):\n",
        "    print(label,len(os.listdir('/content/DermMel/test/Melanoma')))\n",
        "    im_len = im_len + len(os.listdir('/content/DermMel/test/NotMelanoma'))\n",
        "\n",
        "print(\"Total Testing photos \", im_len)\n",
        "print(\"_\"*50)"
      ],
      "metadata": {
        "colab": {
          "base_uri": "https://localhost:8080/"
        },
        "id": "EEYBlZmLkg3c",
        "outputId": "e6009dbd-4f64-48ff-bf47-b10b71b3f353"
      },
      "execution_count": null,
      "outputs": [
        {
          "output_type": "stream",
          "name": "stdout",
          "text": [
            "2  TRAIN Directories of photos\n",
            "Melanoma 5341\n",
            "NotMelanoma 5341\n",
            "Total TRAIN photos  10682\n",
            "__________________________________________________\n",
            "2  VALID Directories of photos\n",
            "Melanoma 1781\n",
            "NotMelanoma 1781\n",
            "Total Validation photos  3562\n",
            "__________________________________________________\n",
            "2  TEST Directories of photos\n",
            "Melanoma 1781\n",
            "NotMelanoma 1781\n",
            "Total Testing photos  3560\n",
            "__________________________________________________\n"
          ]
        }
      ]
    },
    {
      "cell_type": "code",
      "source": [
        "from google.colab.patches import cv2_imshow"
      ],
      "metadata": {
        "id": "-Bu5xp5O6O0z"
      },
      "execution_count": null,
      "outputs": []
    },
    {
      "cell_type": "code",
      "source": [
        "import cv2"
      ],
      "metadata": {
        "id": "8lr-Jq0HCwAx"
      },
      "execution_count": null,
      "outputs": []
    },
    {
      "cell_type": "code",
      "source": [
        "from PIL import Image"
      ],
      "metadata": {
        "id": "fHyichqK9OaC"
      },
      "execution_count": null,
      "outputs": []
    },
    {
      "cell_type": "code",
      "source": [
        "imagem = cv2.imread('/content/DermMel/train_sep/Melanoma/AUG_0_1013.jpeg')\n",
        "imagem = cv2.resize(imagem,(100,100),interpolation=cv2.INTER_AREA)\n",
        "cv2_imshow(imagem)"
      ],
      "metadata": {
        "colab": {
          "base_uri": "https://localhost:8080/",
          "height": 117
        },
        "id": "3sMqatv2Faze",
        "outputId": "0be004ef-a79a-4da6-9194-3ec6fcffed26"
      },
      "execution_count": null,
      "outputs": [
        {
          "output_type": "display_data",
          "data": {
            "text/plain": [
              "<PIL.Image.Image image mode=RGB size=100x100 at 0x7F54556AE910>"
            ],
            "image/png": "[encoded data removed]"
          },
          "metadata": {}
        }
      ]
    },
    {
      "cell_type": "code",
      "source": [
        "def dados_imagem():\n",
        "  caminhos = [os.path.join('/content/DermMel/train_sep/Melanoma', f) for f in os.listdir('/content/DermMel/train_sep/Melanoma')]\n",
        "  mela = []\n",
        "  for caminho in caminhos:\n",
        "    imagem = cv2.imread(caminho)\n",
        "    imagem = Image.open(caminho).convert('L')\n",
        "    mela.append(imagem)\n",
        "  return mela"
      ],
      "metadata": {
        "id": "7nh4a1IL8QNe"
      },
      "execution_count": null,
      "outputs": []
    },
    {
      "cell_type": "code",
      "source": [
        "mela = dados_imagem()"
      ],
      "metadata": {
        "id": "QdYScDJ19uPl"
      },
      "execution_count": null,
      "outputs": []
    },
    {
      "cell_type": "code",
      "source": [
        "mela[0]"
      ],
      "metadata": {
        "colab": {
          "base_uri": "https://localhost:8080/",
          "height": 241
        },
        "id": "0iGNhnTf96LJ",
        "outputId": "8e788d6f-b738-4ae6-d892-a0ae2f312440"
      },
      "execution_count": null,
      "outputs": [
        {
          "output_type": "execute_result",
          "data": {
            "text/plain": [
              "<PIL.Image.Image image mode=L size=224x224 at 0x7F545568FD10>"
            ],
            "image/png": "[encoded data removed]"
          },
          "metadata": {},
          "execution_count": 16
        }
      ]
    },
    {
      "cell_type": "code",
      "source": [
        "from google.colab.patches import cv2"
      ],
      "metadata": {
        "id": "Cu7yYlD_7PFd"
      },
      "execution_count": null,
      "outputs": []
    },
    {
      "cell_type": "code",
      "source": [
        "# # Check the photos and their labels \n",
        "\n",
        "# TestNum = 40\n",
        "# diag1 = 'Melanoma'\n",
        "# diag2 = 'NotMelanoma'\n",
        "\n",
        "# # MELANOMA TRAIN\n",
        "# image_dir = PATHtrain +'/'+diag1+'/'\n",
        "# img_name = os.listdir(image_dir)[TestNum]\n",
        "# img_path = image_dir+str(img_name)\n",
        "# img = image.load_img(img_path, target_size=(224, 224))\n",
        "# imgplot = plt.imshow(img)\n",
        "# print(\"TRAIN \",diag1,\" photo number \", TestNum)\n",
        "# plt.show()\n",
        "\n",
        "# # NOTMELANOMA TRAIN\n",
        "# image_dir = PATHtrain +'/'+diag2+'/'\n",
        "# img_name = os.listdir(image_dir)[TestNum]\n",
        "# img_path = image_dir+str(img_name)\n",
        "# img = image.load_img(img_path, target_size=(224, 224))\n",
        "# imgplot = plt.imshow(img)\n",
        "# print(\"TRAIN \",diag2,\" photo number \", TestNum)\n",
        "# plt.show()\n",
        "\n",
        "\n",
        "# #MELANOMA VALID\n",
        "# image_dir = PATHvalid +'/'+diag1+'/'\n",
        "# img_name = os.listdir(image_dir)[TestNum]\n",
        "# img_path = image_dir+str(img_name)\n",
        "# img = image.load_img(img_path, target_size=(224, 224))\n",
        "# imgplot = plt.imshow(img)\n",
        "# print(\"VALID \",diag1,\" photo number \", TestNum)\n",
        "# plt.show()\n",
        "\n",
        "# #NOTMELANOMA VALID\n",
        "# image_dir = PATHvalid +'/'+diag2+'/'\n",
        "# img_name = os.listdir(image_dir)[TestNum]\n",
        "# img_path = image_dir+str(img_name)\n",
        "# img = image.load_img(img_path, target_size=(224, 224))\n",
        "# imgplot = plt.imshow(img)\n",
        "# print(\"VALID \",diag2,\" photo number \", TestNum)\n",
        "# plt.show()\n",
        "\n",
        "\n",
        "# #MELANOMA TEST\n",
        "# image_dir = PATHtest +'/'+diag1+'/'\n",
        "# img_name = os.listdir(image_dir)[TestNum]\n",
        "# img_path = image_dir+str(img_name)\n",
        "# img = image.load_img(img_path, target_size=(224, 224))\n",
        "# imgplot = plt.imshow(img)\n",
        "# print(\"TEST \",diag1,\" photo number \", TestNum)\n",
        "# plt.show()\n",
        "\n",
        "# #NOTMELANOMA TEST\n",
        "# image_dir = PATHtest +'/'+diag2+'/'\n",
        "# img_name = os.listdir(image_dir)[TestNum]\n",
        "# img_path = image_dir+str(img_name)\n",
        "# img = image.load_img(img_path, target_size=(224, 224))\n",
        "# imgplot = plt.imshow(img)\n",
        "# print(\"TEST \",diag2,\" photo number \", TestNum)\n",
        "# plt.show()"
      ],
      "metadata": {
        "id": "9_a_K4Rjma69"
      },
      "execution_count": null,
      "outputs": []
    },
    {
      "cell_type": "code",
      "source": [
        "from efficientnet.tfkeras import EfficientNetB7\n",
        "from keras.callbacks import EarlyStopping,ModelCheckpoint\n",
        "from keras.layers import MaxPool2D\n",
        "from keras.regularizers import l2"
      ],
      "metadata": {
        "id": "TMoCHvS5mleT"
      },
      "execution_count": null,
      "outputs": []
    },
    {
      "cell_type": "code",
      "source": [
        "eff = EfficientNetB7(input_shape=(224 , 224 , 3) , include_top=False , weights='imagenet')\n",
        "\n",
        "model = Sequential()\n",
        "model.add(eff)\n",
        "model.add(Flatten())\n",
        "model.add(Dropout(0.3))\n",
        "model.add(Dense(128 , activation='relu' , kernel_regularizer=regularizers.l2(0.001) ))\n",
        "model.add(BatchNormalization())\n",
        "model.add(Dropout(0.3))\n",
        "model.add(Dense(2, activation='sigmoid')) "
      ],
      "metadata": {
        "id": "j-17PsWVmngG",
        "colab": {
          "base_uri": "https://localhost:8080/"
        },
        "outputId": "cd28d3af-b573-4864-b122-47339e134814"
      },
      "execution_count": null,
      "outputs": [
        {
          "output_type": "stream",
          "name": "stdout",
          "text": [
            "Downloading data from https://github.com/Callidior/keras-applications/releases/download/efficientnet/efficientnet-b7_weights_tf_dim_ordering_tf_kernels_autoaugment_notop.h5\n",
            "258441216/258434480 [==============================] - 30s 0us/step\n",
            "258449408/258434480 [==============================] - 30s 0us/step\n"
          ]
        }
      ]
    },
    {
      "cell_type": "code",
      "source": [
        "from keras.layers.convolutional import Conv2D\n",
        "from keras.layers.convolutional import MaxPooling2D"
      ],
      "metadata": {
        "id": "xlGEDxbwwDSv"
      },
      "execution_count": null,
      "outputs": []
    },
    {
      "cell_type": "code",
      "source": [
        "# Prep the Train /  Valid and Test directories for the generator\n",
        "\n",
        "train_dir = PATHtrain\n",
        "validation_dir = PATHvalid\n",
        "test_dir = PATHtest\n",
        "batch_size = 50\n",
        "target_size=(224, 224)\n",
        "\n",
        "#train_datagen = ImageDataGenerator(rescale=1./255)\n",
        "train_datagen = ImageDataGenerator(rescale=1./255,\n",
        "                                   rotation_range=40,\n",
        "                                   width_shift_range=0.2,\n",
        "                                   height_shift_range=0.2,\n",
        "                                   shear_range=0.2,\n",
        "                                   zoom_range=0.2,\n",
        "                                   fill_mode='nearest')\n",
        "\n",
        "test_datagen = ImageDataGenerator(rescale=1./255)\n",
        "\n",
        "train_generator = train_datagen.flow_from_directory(\n",
        "    train_dir,target_size=target_size,batch_size=batch_size)\n",
        "validation_generator = test_datagen.flow_from_directory(\n",
        "    validation_dir,target_size=target_size,batch_size=batch_size)\n",
        "test_generator = test_datagen.flow_from_directory(\n",
        "    test_dir,target_size=target_size,batch_size=batch_size)"
      ],
      "metadata": {
        "colab": {
          "base_uri": "https://localhost:8080/"
        },
        "id": "ZxJXMTtCniWb",
        "outputId": "789b825f-80a4-4898-a91d-634e867e069f"
      },
      "execution_count": null,
      "outputs": [
        {
          "output_type": "stream",
          "name": "stdout",
          "text": [
            "Found 10682 images belonging to 2 classes.\n",
            "Found 3562 images belonging to 2 classes.\n",
            "Found 3561 images belonging to 2 classes.\n"
          ]
        }
      ]
    },
    {
      "cell_type": "code",
      "source": [
        "# from keras.preprocessing.image import ImageDataGenerator"
      ],
      "metadata": {
        "id": "iGWpcjw1ryYQ"
      },
      "execution_count": null,
      "outputs": []
    },
    {
      "cell_type": "code",
      "source": [
        "# data_generator = ImageDataGenerator(rescale=1./255, validation_split=0.30)"
      ],
      "metadata": {
        "id": "Cuv3-Vtcrh6k"
      },
      "execution_count": null,
      "outputs": []
    },
    {
      "cell_type": "code",
      "source": [
        "# path = '/content/DermMel/train_sep'\n",
        "# batch_size = 50\n",
        "# train_generator = data_generator.flow_from_directory(path, shuffle=True, seed=13,\n",
        "#                                     class_mode='categorical', batch_size=batch_size, subset=\"training\")"
      ],
      "metadata": {
        "id": "v1ka2by8r_oc"
      },
      "execution_count": null,
      "outputs": []
    },
    {
      "cell_type": "code",
      "source": [
        "print(train_generator.class_indices)"
      ],
      "metadata": {
        "id": "yQ5we9sznl5n",
        "colab": {
          "base_uri": "https://localhost:8080/"
        },
        "outputId": "902c0177-70c7-43b0-d84b-80ead7a1ce37"
      },
      "execution_count": null,
      "outputs": [
        {
          "output_type": "stream",
          "name": "stdout",
          "text": [
            "{'Melanoma': 0, 'NotMelanoma': 1}\n"
          ]
        }
      ]
    },
    {
      "cell_type": "code",
      "source": [
        "earlystopping = EarlyStopping(monitor =\"val_loss\", \n",
        "                                        patience = 8, \n",
        "                                        restore_best_weights = True)\n",
        "\n",
        "model.compile(optimizer='adam',\n",
        "              loss='binary_crossentropy',\n",
        "              metrics=['accuracy'] )  "
      ],
      "metadata": {
        "id": "SN3O2nO1uPnG"
      },
      "execution_count": null,
      "outputs": []
    },
    {
      "cell_type": "code",
      "source": [
        "history = model.fit_generator(train_generator,\n",
        "                              epochs=3,\n",
        "                              steps_per_epoch = 10682 // batch_size,\n",
        "                              validation_data = validation_generator,\n",
        "                              validation_steps = 3562 // batch_size ,\n",
        "                              callbacks=[earlystopping])"
      ],
      "metadata": {
        "colab": {
          "base_uri": "https://localhost:8080/"
        },
        "id": "g00FlUIQx0h6",
        "outputId": "ecf59063-a04c-4b82-b60c-9b31dde5f494"
      },
      "execution_count": null,
      "outputs": [
        {
          "output_type": "stream",
          "name": "stderr",
          "text": [
            "/usr/local/lib/python3.7/dist-packages/ipykernel_launcher.py:6: UserWarning: `Model.fit_generator` is deprecated and will be removed in a future version. Please use `Model.fit`, which supports generators.\n",
            "  \n"
          ]
        },
        {
          "output_type": "stream",
          "name": "stdout",
          "text": [
            "Epoch 1/3\n"
          ]
        }
      ]
    }
  ]
}