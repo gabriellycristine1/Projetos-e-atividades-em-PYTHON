{
  "cells": [
    {
      "cell_type": "markdown",
      "metadata": {
        "id": "view-in-github",
        "colab_type": "text"
      },
      "source": [
        "<a href=\"https://colab.research.google.com/github/gabriellycristine1/Projetos_e_Atividades_Python/blob/main/AJUSTES_DE_PARAMETROS_22_06.ipynb\" target=\"_parent\"><img src=\"https://colab.research.google.com/assets/colab-badge.svg\" alt=\"Open In Colab\"/></a>"
      ]
    },
    {
      "cell_type": "code",
      "execution_count": null,
      "metadata": {
        "id": "RhEdddgSpMr-"
      },
      "outputs": [],
      "source": [
        "from sklearn.model_selection import GridSearchCV\n",
        "from sklearn.tree import DecisionTreeClassifier\n",
        "from sklearn.svm import SVC \n",
        "from sklearn.neural_network import MLPClassifier\n",
        "import pickle\n",
        "import numpy as np"
      ]
    },
    {
      "cell_type": "code",
      "execution_count": null,
      "metadata": {
        "id": "6FHrX2pzpWpc"
      },
      "outputs": [],
      "source": [
        "with open('/content/credit.pkl', 'rb') as f:\n",
        "    X_credit_treinamento, y_credit_treinamento, X_credit_teste, y_credit_teste = pickle.load(f)\n"
      ]
    },
    {
      "cell_type": "code",
      "execution_count": null,
      "metadata": {
        "colab": {
          "base_uri": "https://localhost:8080/"
        },
        "id": "KRGQVLRJpY-T",
        "outputId": "d83ad137-cbda-49e8-d59b-5d3f3395ab97"
      },
      "outputs": [
        {
          "data": {
            "text/plain": [
              "(2000, 3)"
            ]
          },
          "execution_count": 7,
          "metadata": {},
          "output_type": "execute_result"
        }
      ],
      "source": [
        "x_credit = np.concatenate((X_credit_treinamento, X_credit_teste), axis = 0)\n",
        "x_credit.shape \n"
      ]
    },
    {
      "cell_type": "code",
      "execution_count": null,
      "metadata": {
        "colab": {
          "base_uri": "https://localhost:8080/"
        },
        "id": "J7CCsrbupeAl",
        "outputId": "4d355be7-40bd-4593-b2d0-d7247e0851c9"
      },
      "outputs": [
        {
          "data": {
            "text/plain": [
              "(2000,)"
            ]
          },
          "execution_count": 8,
          "metadata": {},
          "output_type": "execute_result"
        }
      ],
      "source": [
        "\n",
        "y_credit = np.concatenate((y_credit_treinamento, y_credit_teste), axis = 0)\n",
        "\n",
        "y_credit.shape \n"
      ]
    },
    {
      "cell_type": "code",
      "execution_count": null,
      "metadata": {
        "id": "6-j3jM0vpf6N"
      },
      "outputs": [],
      "source": [
        "parametros = { 'criterion':['gini','entropy'], 'splitter':['best','random'],'min_samples_split':[2,5,10,60,4],'min_samples_leaf':[1,5,10,4,3]}"
      ]
    },
    {
      "cell_type": "code",
      "execution_count": null,
      "metadata": {
        "colab": {
          "base_uri": "https://localhost:8080/"
        },
        "id": "6qNYLlecpiFh",
        "outputId": "29db9f39-4233-400b-a968-5c6f841a04aa"
      },
      "outputs": [
        {
          "name": "stdout",
          "output_type": "stream",
          "text": [
            "0.983\n",
            "{'criterion': 'entropy', 'min_samples_leaf': 1, 'min_samples_split': 2, 'splitter': 'random'}\n"
          ]
        }
      ],
      "source": [
        "grid_search = GridSearchCV(estimator = DecisionTreeClassifier(), param_grid= parametros)\n",
        "grid_search.fit(x_credit, y_credit)\n",
        "melhores_parametros = grid_search.best_params_\n",
        "melhor_resultado = grid_search.best_score_\n",
        "print(melhor_resultado)\n",
        "print(melhores_parametros)"
      ]
    },
    {
      "cell_type": "markdown",
      "metadata": {
        "id": "x7NmLuwC0x-v"
      },
      "source": [
        "**PARA SVM**"
      ]
    },
    {
      "cell_type": "code",
      "execution_count": null,
      "metadata": {
        "colab": {
          "base_uri": "https://localhost:8080/"
        },
        "id": "y0Zton9pyzAS",
        "outputId": "626cf591-5a69-489e-8555-7f74a13d27d9"
      },
      "outputs": [
        {
          "data": {
            "text/plain": [
              "SVC()"
            ]
          },
          "execution_count": 43,
          "metadata": {},
          "output_type": "execute_result"
        }
      ],
      "source": [
        "SVC()"
      ]
    },
    {
      "cell_type": "code",
      "execution_count": null,
      "metadata": {
        "id": "ALc3ERku1WYo"
      },
      "outputs": [],
      "source": [
        "parametros = {\n",
        "    'tol':[0.001,0.0001,0.01],\n",
        "    'C':[1.0,1.5,2.0],\n",
        "    'kernel':['rbf','linear','poly','sigmoid'],\n",
        "   \n",
        "}"
      ]
    },
    {
      "cell_type": "code",
      "execution_count": null,
      "metadata": {
        "colab": {
          "base_uri": "https://localhost:8080/"
        },
        "id": "DubaZ1xVyQTB",
        "outputId": "8241baf0-2368-44c1-9783-a5f15b4627cb"
      },
      "outputs": [
        {
          "name": "stdout",
          "output_type": "stream",
          "text": [
            "0.9835\n",
            "{'C': 1.5, 'kernel': 'rbf', 'tol': 0.01}\n"
          ]
        }
      ],
      "source": [
        "grid_search = GridSearchCV(estimator = SVC(), param_grid= parametros)\n",
        "grid_search.fit(x_credit, y_credit)\n",
        "melhores_parametros = grid_search.best_params_\n",
        "melhor_resultado = grid_search.best_score_\n",
        "print(melhor_resultado)\n",
        "print(melhores_parametros)"
      ]
    },
    {
      "cell_type": "markdown",
      "metadata": {
        "id": "J3GDimVI5DgV"
      },
      "source": [
        "***REDES NEURAIUS***"
      ]
    },
    {
      "cell_type": "code",
      "execution_count": null,
      "metadata": {
        "id": "4r2j2zM45F4y"
      },
      "outputs": [],
      "source": [
        "parametros = {\n",
        "    'activation':['relu','logistic', 'tahn'],\n",
        "    'solver': ['adam','sgd'],\n",
        "    'batch_size':[10,5,56]\n",
        "}"
      ]
    },
    {
      "cell_type": "code",
      "execution_count": null,
      "metadata": {
        "id": "9GaHtRs15kN1"
      },
      "outputs": [],
      "source": [
        "grid_search = GridSearchCV(estimator =  MLPClassifier(), param_grid= parametros)\n",
        "grid_search.fit(x_credit, y_credit)\n",
        "melhores_parametros = grid_search.best_params_\n",
        "melhor_resultado = grid_search.best_score_\n",
        "print(melhor_resultado)\n",
        "print(melhores_parametros)"
      ]
    },
    {
      "cell_type": "code",
      "execution_count": null,
      "metadata": {
        "id": "jqy9NBhD7aNd"
      },
      "outputs": [],
      "source": [
        "from sklearn.model_selection import cross_val_score, KFold"
      ]
    },
    {
      "cell_type": "code",
      "execution_count": null,
      "metadata": {
        "colab": {
          "background_save": true
        },
        "id": "qiOv1hr67qkx"
      },
      "outputs": [],
      "source": [
        "resultado_arvore = []\n",
        "resultado_redes_neurais = []\n",
        "\n",
        "for i in range(30):\n",
        "  kfold = KFold(n_splits=10,shuffle=True,random_state = i)\n",
        "  # arvore = DecisionTreeClassifier(criterion = 'entropy', min_samples_leaf= 1, min_samples_split= 2, splitter='random')\n",
        "  # scores = cross_val_score(arvore, x_credit, y_credit, cv=kfold)\n",
        "  # print(scores)\n",
        "  # print(scores.mean())\n",
        "  # resultado_arvore.append(scores.mean())n\n",
        "  rede_neural = MLPClassifier(activation= 'relu', batch_size= 10, solver= 'adam')\n",
        "  scores = cross_val_score(rede_neural,x_credit,y_credit, cv=kfold)\n",
        "  print(scores)\n",
        "  print(scores.mean())\n",
        "  resultado_redes_neurais.append(scores.mean())\n",
        "\n"
      ]
    },
    {
      "cell_type": "code",
      "execution_count": null,
      "metadata": {
        "id": "nqmiyh3LldE2"
      },
      "outputs": [],
      "source": [
        "with open('/content/census (1).pkl', 'rb') as f:\n",
        "    X_census_treinamento, y_census_treinamento, X_census_teste, y_census_teste = pickle.load(f)\n"
      ]
    },
    {
      "cell_type": "code",
      "execution_count": null,
      "metadata": {
        "colab": {
          "base_uri": "https://localhost:8080/"
        },
        "id": "qAaFDHoMnvg8",
        "outputId": "264f7031-5c8c-4ebb-dd7c-3c229e7f0b58"
      },
      "outputs": [
        {
          "data": {
            "text/plain": [
              "(32561, 108)"
            ]
          },
          "execution_count": 4,
          "metadata": {},
          "output_type": "execute_result"
        }
      ],
      "source": [
        "x_census = np.concatenate((X_census_treinamento, X_census_teste), axis = 0)\n",
        "x_census.shape "
      ]
    },
    {
      "cell_type": "code",
      "execution_count": null,
      "metadata": {
        "colab": {
          "base_uri": "https://localhost:8080/"
        },
        "id": "ofZu8ggSn5Ty",
        "outputId": "e51c4c85-4e68-4316-e772-9f28dd3c478d"
      },
      "outputs": [
        {
          "data": {
            "text/plain": [
              "(32561,)"
            ]
          },
          "execution_count": 5,
          "metadata": {},
          "output_type": "execute_result"
        }
      ],
      "source": [
        "y_census = np.concatenate((y_census_treinamento, y_census_teste), axis = 0)\n",
        "y_census.shape "
      ]
    },
    {
      "cell_type": "code",
      "execution_count": null,
      "metadata": {
        "id": "f_xLqge0oAiM"
      },
      "outputs": [],
      "source": [
        "parametros = { 'criterion':['gini','entropy'], 'splitter':['best','random'],'min_samples_split':[2,5,10,60,4],'min_samples_leaf':[1,5,10,4,3]}"
      ]
    },
    {
      "cell_type": "code",
      "execution_count": null,
      "metadata": {
        "colab": {
          "base_uri": "https://localhost:8080/"
        },
        "id": "B1pglDn_oIK9",
        "outputId": "81e439e0-9421-4fa1-b25d-8582acbb49e0"
      },
      "outputs": [
        {
          "name": "stdout",
          "output_type": "stream",
          "text": [
            "0.852400038328182\n",
            "{'criterion': 'gini', 'min_samples_leaf': 10, 'min_samples_split': 60, 'splitter': 'best'}\n"
          ]
        }
      ],
      "source": [
        "grid_search = GridSearchCV(estimator = DecisionTreeClassifier(), param_grid= parametros)\n",
        "grid_search.fit(x_census, y_census)\n",
        "melhores_parametros = grid_search.best_params_\n",
        "melhor_resultado = grid_search.best_score_\n",
        "print(melhor_resultado)\n",
        "print(melhores_parametros)"
      ]
    },
    {
      "cell_type": "code",
      "execution_count": null,
      "metadata": {
        "id": "A0lx6SinpGzT"
      },
      "outputs": [],
      "source": [
        "parametros = {\n",
        "    'tol':[0.001,0.0001,0.01],\n",
        "    'C':[1.0,1.5,2.0],\n",
        "    'kernel':['rbf','linear','poly','sigmoid'],\n",
        "   \n",
        "}"
      ]
    },
    {
      "cell_type": "code",
      "execution_count": null,
      "metadata": {
        "id": "38oJWiOopIYJ"
      },
      "outputs": [],
      "source": [
        "grid_search = GridSearchCV(estimator = SVC(), param_grid= parametros)\n",
        "grid_search.fit(x_census, y_census)\n",
        "melhores_parametros = grid_search.best_params_\n",
        "melhor_resultado = grid_search.best_score_\n",
        "print(melhor_resultado)\n",
        "print(melhores_parametros)"
      ]
    },
    {
      "cell_type": "code",
      "execution_count": null,
      "metadata": {
        "id": "ZO0NJTTpsjQe"
      },
      "outputs": [],
      "source": [
        "parametros = {\n",
        "    'activation':['relu','logistic', 'tahn'],\n",
        "    'solver': ['adam','sgd'],\n",
        "    'batch_size':[10,5,56]\n",
        "}"
      ]
    },
    {
      "cell_type": "code",
      "execution_count": null,
      "metadata": {
        "colab": {
          "background_save": true,
          "base_uri": "https://localhost:8080/"
        },
        "id": "wswF5Ha9slrP",
        "outputId": "6eacf7af-01f4-4d8c-bdef-e28c132fad3a"
      },
      "outputs": [
        {
          "name": "stderr",
          "output_type": "stream",
          "text": [
            "/usr/local/lib/python3.7/dist-packages/sklearn/neural_network/_multilayer_perceptron.py:696: ConvergenceWarning: Stochastic Optimizer: Maximum iterations (200) reached and the optimization hasn't converged yet.\n",
            "  ConvergenceWarning,\n",
            "/usr/local/lib/python3.7/dist-packages/sklearn/neural_network/_multilayer_perceptron.py:696: ConvergenceWarning: Stochastic Optimizer: Maximum iterations (200) reached and the optimization hasn't converged yet.\n",
            "  ConvergenceWarning,\n",
            "/usr/local/lib/python3.7/dist-packages/sklearn/neural_network/_multilayer_perceptron.py:696: ConvergenceWarning: Stochastic Optimizer: Maximum iterations (200) reached and the optimization hasn't converged yet.\n",
            "  ConvergenceWarning,\n",
            "/usr/local/lib/python3.7/dist-packages/sklearn/neural_network/_multilayer_perceptron.py:696: ConvergenceWarning: Stochastic Optimizer: Maximum iterations (200) reached and the optimization hasn't converged yet.\n",
            "  ConvergenceWarning,\n",
            "/usr/local/lib/python3.7/dist-packages/sklearn/neural_network/_multilayer_perceptron.py:696: ConvergenceWarning: Stochastic Optimizer: Maximum iterations (200) reached and the optimization hasn't converged yet.\n",
            "  ConvergenceWarning,\n",
            "/usr/local/lib/python3.7/dist-packages/sklearn/neural_network/_multilayer_perceptron.py:696: ConvergenceWarning: Stochastic Optimizer: Maximum iterations (200) reached and the optimization hasn't converged yet.\n",
            "  ConvergenceWarning,\n"
          ]
        }
      ],
      "source": [
        "grid_search = GridSearchCV(estimator =  MLPClassifier(), param_grid= parametros)\n",
        "grid_search.fit(x_census, y_census)\n",
        "melhores_parametros = grid_search.best_params_\n",
        "melhor_resultado = grid_search.best_score_\n",
        "print(melhor_resultado)\n",
        "print(melhores_parametros)"
      ]
    }
  ],
  "metadata": {
    "colab": {
      "collapsed_sections": [],
      "name": "AJUSTES_DE_PARAMETROS_22/06.ipynb",
      "provenance": [],
      "authorship_tag": "ABX9TyPanUB8edFL+Cdo7Kmm+00T",
      "include_colab_link": true
    },
    "kernelspec": {
      "display_name": "Python 3",
      "name": "python3"
    },
    "language_info": {
      "name": "python"
    }
  },
  "nbformat": 4,
  "nbformat_minor": 0
}