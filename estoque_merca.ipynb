{
  "nbformat": 4,
  "nbformat_minor": 0,
  "metadata": {
    "colab": {
      "provenance": [],
      "authorship_tag": "ABX9TyM/mcguiGJGNr4sCIB88dYI",
      "include_colab_link": true
    },
    "kernelspec": {
      "name": "python3",
      "display_name": "Python 3"
    },
    "language_info": {
      "name": "python"
    }
  },
  "cells": [
    {
      "cell_type": "markdown",
      "metadata": {
        "id": "view-in-github",
        "colab_type": "text"
      },
      "source": [
        "<a href=\"https://colab.research.google.com/github/gabriellycristine1/Projetos_e_Atividades_Python/blob/main/estoque_merca.ipynb\" target=\"_parent\"><img src=\"https://colab.research.google.com/assets/colab-badge.svg\" alt=\"Open In Colab\"/></a>"
      ]
    },
    {
      "cell_type": "code",
      "execution_count": 1,
      "metadata": {
        "colab": {
          "base_uri": "https://localhost:8080/"
        },
        "id": "Gp01_BEaqEGO",
        "outputId": "87e80384-dd3f-4fa3-fbfe-034102e9e145"
      },
      "outputs": [
        {
          "output_type": "stream",
          "name": "stdout",
          "text": [
            "{'Carne de Boi (kg)': 50, 'Frango (kg)': 30, 'Peixe (kg)': 20, 'Arroz (kg)': 100, 'Feijão (kg)': 80, 'Macarrão (unidades)': 60, 'Óleo de Cozinha (litros)': 40, 'Açúcar (kg)': 50, 'Café (gramas)': 1000, 'Leite (litros)': 60, 'Pão (unidades)': 150, 'Ovos (dúzias)': 40, 'Farinha de Trigo (kg)': 30, 'Sal (kg)': 10, 'Azeite (litros)': 15, 'Leite Condensado (unidades)': 25, 'Cerveja (unidades)': 70, 'Refrigerante (litros)': 80, 'Sabonete (unidades)': 120, 'Shampoo (unidades)': 80, 'Escova de Dentes (unidades)': 100, 'Papel Higiênico (unidades)': 150, 'Detergente (unidades)': 60, 'Sabão em Pó (kg)': 40, 'Amaciante (litros)': 30, 'Biscoitos (unidades)': 90, 'Balas (unidades)': 120, 'Lâmpadas (unidades)': 40, 'Velas (unidades)': 25, 'Fósforos (caixas)': 15, 'Isqueiro (unidades)': 10}\n"
          ]
        }
      ],
      "source": [
        "estoque_mercadinho = {\n",
        "    \"Carne de Boi (kg)\": 50,\n",
        "    \"Frango (kg)\": 30,\n",
        "    \"Peixe (kg)\": 20,\n",
        "    \"Arroz (kg)\": 100,\n",
        "    \"Feijão (kg)\": 80,\n",
        "    \"Macarrão (unidades)\": 60,\n",
        "    \"Óleo de Cozinha (litros)\": 40,\n",
        "    \"Açúcar (kg)\": 50,\n",
        "    \"Café (gramas)\": 1000,\n",
        "    \"Leite (litros)\": 60,\n",
        "    \"Pão (unidades)\": 150,\n",
        "    \"Ovos (dúzias)\": 40,\n",
        "    \"Farinha de Trigo (kg)\": 30,\n",
        "    \"Sal (kg)\": 10,\n",
        "    \"Azeite (litros)\": 15,\n",
        "    \"Leite Condensado (unidades)\": 25,\n",
        "    \"Cerveja (unidades)\": 70,\n",
        "    \"Refrigerante (litros)\": 80,\n",
        "    \"Sabonete (unidades)\": 120,ad\n",
        "    \"Shampoo (unidades)\": 80,\n",
        "    \"Escova de Dentes (unidades)\": 100,\n",
        "    \"Papel Higiênico (unidades)\": 150,\n",
        "    \"Detergente (unidades)\": 60,\n",
        "    \"Sabão em Pó (kg)\": 40,\n",
        "    \"Amaciante (litros)\": 30,\n",
        "    \"Biscoitos (unidades)\": 90,\n",
        "    \"Balas (unidades)\": 120,\n",
        "    \"Lâmpadas (unidades)\": 40,\n",
        "    \"Velas (unidades)\": 25,\n",
        "    \"Fósforos (caixas)\": 15,\n",
        "    \"Isqueiro (unidades)\": 10,\n",
        "}\n",
        "\n",
        "print(estoque_mercadinho)\n"
      ]
    }
  ]
}